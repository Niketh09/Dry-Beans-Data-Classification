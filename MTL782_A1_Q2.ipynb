{
  "cells": [
    {
      "cell_type": "markdown",
      "source": [
        "**MTL 782 DATA MINING ASSIGNMENT 2 QUESTION 2**"
      ],
      "metadata": {
        "id": "u6NGAYYaBftl"
      }
    },
    {
      "cell_type": "markdown",
      "source": [
        "Use MNIST DATASET\n",
        "(a) Use the above classifiers to do multi-class classification where the \n",
        "idea is to classify the image to one of the ten digits (0-9). [9]\n",
        "(b) Exploration of Different Evaluation Metrics\n",
        "Evaluate your methods using different evaluation metrics. Tune the \n",
        "parameters using two powerful techniques of grid search and parameter \n",
        "search."
      ],
      "metadata": {
        "id": "cbYI89zPBrkS"
      }
    },
    {
      "cell_type": "code",
      "execution_count": 19,
      "metadata": {
        "id": "Uj0WhnEwkhXO"
      },
      "outputs": [],
      "source": [
        "import numpy as np\n",
        "import pandas as pd\n",
        "import matplotlib.pyplot as plt\n",
        "import seaborn as sns\n",
        "from sklearn.model_selection import train_test_split\n",
        "import warnings\n",
        "warnings.filterwarnings('ignore')"
      ]
    },
    {
      "cell_type": "code",
      "execution_count": 2,
      "metadata": {
        "id": "2_DnJMFQM_0u"
      },
      "outputs": [],
      "source": [
        "import tensorflow as tf\n",
        "from tensorflow import keras\n",
        "from keras import layers\n",
        "from keras.datasets import mnist\n",
        "import matplotlib.pyplot as plt\n"
      ]
    },
    {
      "cell_type": "code",
      "source": [
        "#Evaluation Metrics\n",
        "from sklearn.metrics import accuracy_score ,precision_score,recall_score,f1_score,confusion_matrix,classification_report\n",
        "#Model Select\n",
        "from sklearn.model_selection import train_test_split,GridSearchCV\n",
        "from sklearn.model_selection import KFold,train_test_split,cross_val_score\n",
        "from sklearn.ensemble import RandomForestClassifier\n",
        "from sklearn.tree import DecisionTreeClassifier\n",
        "from sklearn.naive_bayes import GaussianNB\n",
        "from sklearn.neighbors import KNeighborsClassifier\n",
        "from sklearn import preprocessing,metrics\n",
        "from sklearn.pipeline import make_pipeline"
      ],
      "metadata": {
        "id": "dJijMUYqejIp"
      },
      "execution_count": 3,
      "outputs": []
    },
    {
      "cell_type": "code",
      "execution_count": 4,
      "metadata": {
        "id": "7FmnG-tqPn0k"
      },
      "outputs": [],
      "source": [
        "from sklearn import datasets, svm, metrics"
      ]
    },
    {
      "cell_type": "markdown",
      "source": [
        "IMPORTING DATASET"
      ],
      "metadata": {
        "id": "-AT-cdb9UiwM"
      }
    },
    {
      "cell_type": "code",
      "execution_count": 5,
      "metadata": {
        "id": "xoyYY7T8NChj"
      },
      "outputs": [],
      "source": [
        "from sklearn.datasets import load_digits\n",
        "mnist = load_digits()"
      ]
    },
    {
      "cell_type": "markdown",
      "source": [
        "SPLITTING THE DATASET FOR TRAINING(80%) AND TESTING(20%) "
      ],
      "metadata": {
        "id": "imv_eglfUlmT"
      }
    },
    {
      "cell_type": "code",
      "execution_count": 6,
      "metadata": {
        "id": "S4X3CUc7ODJz"
      },
      "outputs": [],
      "source": [
        "X_train,X_test,y_train,y_test = train_test_split(mnist.data,mnist.target,random_state=0,test_size=0.2)"
      ]
    },
    {
      "cell_type": "markdown",
      "source": [
        "**DECISION TREE**"
      ],
      "metadata": {
        "id": "vukT41Weh_ox"
      }
    },
    {
      "cell_type": "code",
      "execution_count": 7,
      "metadata": {
        "id": "KlefmG5yQYIk"
      },
      "outputs": [],
      "source": [
        "from sklearn import tree\n",
        "from sklearn import metrics"
      ]
    },
    {
      "cell_type": "markdown",
      "source": [
        "APPLYING RANDOMIZED SEARCH FOR HYPERPARAMETER TUNING FOR DECISION TREES"
      ],
      "metadata": {
        "id": "rfqA2IoA8XmU"
      }
    },
    {
      "cell_type": "code",
      "source": [
        "from sklearn.preprocessing import StandardScaler\n",
        "from scipy.stats import randint as sp_randint\n",
        "from sklearn.model_selection import RandomizedSearchCV\n",
        "ss = StandardScaler()\n",
        "X_train_ss = ss.fit_transform(X_train) \n",
        "X_test_ss = ss.transform(X_test)\n",
        "param_dist = {\"max_depth\": [3, 5], \n",
        "    \"max_features\": sp_randint(1, 11), \n",
        "    \"min_samples_split\": sp_randint(2, 11), \n",
        "    \"criterion\": [\"gini\", \"entropy\"]} \n",
        "# build a classifier \n",
        "Dt = DecisionTreeClassifier()\n",
        "# Randomized search\n",
        "random_search = RandomizedSearchCV(Dt, param_distributions=param_dist, \n",
        "    n_iter=20, cv=5) \n",
        "random_search.fit(X_train_ss, y_train)\n",
        "print(random_search.best_params_)"
      ],
      "metadata": {
        "colab": {
          "base_uri": "https://localhost:8080/"
        },
        "id": "fzuJv1u95_qW",
        "outputId": "eb616f4e-550c-4985-b605-40bcdad28d9b"
      },
      "execution_count": 16,
      "outputs": [
        {
          "output_type": "stream",
          "name": "stdout",
          "text": [
            "{'criterion': 'entropy', 'max_depth': 5, 'max_features': 10, 'min_samples_split': 3}\n"
          ]
        }
      ]
    },
    {
      "cell_type": "markdown",
      "source": [
        "APPLYING GRID SEARCH FOR HYPERPARAMETER TUNING FOR DECISION TREES"
      ],
      "metadata": {
        "id": "T0FoX5FkUzFr"
      }
    },
    {
      "cell_type": "code",
      "execution_count": 20,
      "metadata": {
        "colab": {
          "base_uri": "https://localhost:8080/"
        },
        "id": "1OpA6HrjR6b-",
        "outputId": "d2d4b581-6090-4a5d-c096-2e7b7e86e2c8"
      },
      "outputs": [
        {
          "output_type": "stream",
          "name": "stdout",
          "text": [
            "Tuned model Accuracy:  0.8593822843822844\n",
            "{'criterion': 'entropy', 'max_depth': None, 'max_leaf_nodes': None, 'min_samples_leaf': 1, 'min_samples_split': 2}\n"
          ]
        }
      ],
      "source": [
        "criterion = [\"gini\", \"entropy\"] \n",
        "min_samples_leaf_range = [1,2,3] \n",
        "max_leaf_nodes_range = [None, 5, 10, 20]\n",
        "min_sample_split_range = [1,2,5,10] \n",
        "max_depth_range = [None, 2, 5] \n",
        "par_grid = {\"criterion\": criterion,\n",
        " \"min_samples_split\": min_sample_split_range,\n",
        " \"max_depth\": max_depth_range,\n",
        " \"min_samples_leaf\": min_samples_leaf_range,\n",
        " \"max_leaf_nodes\": max_leaf_nodes_range\n",
        " }\n",
        "dt= DecisionTreeClassifier()\n",
        "grid = GridSearchCV(estimator=dt,param_grid=par_grid,cv = 10,scoring='accuracy',refit=True) \n",
        "t_model = make_pipeline(preprocessing.StandardScaler(), grid) \n",
        "t_model.fit(X_train, y_train) \n",
        "print(\"Tuned model Accuracy: \", grid.best_score_)\n",
        "print(grid.best_params_)"
      ]
    },
    {
      "cell_type": "markdown",
      "source": [
        "FROM GRID SEARCH WE GOT THE BEST PARAMETERS NOW WILL USE THEM TO TRAIN OUR MODEL"
      ],
      "metadata": {
        "id": "O1ExOXHcVLuk"
      }
    },
    {
      "cell_type": "code",
      "source": [
        "model_dt = DecisionTreeClassifier(criterion= 'gini', max_depth=None, max_leaf_nodes= None, min_samples_leaf= 1, min_samples_split= 2) \n",
        "model_dt.fit(X_train, y_train) \n",
        "Y_pred = model_dt.predict(X_test) \n",
        "dt_acc=round(accuracy_score(y_test,Y_pred)* 100, 2)\n",
        "dt_acc_score = round(model_dt.score(X_train, y_train) * 100, 2)\n",
        "dt_acc"
      ],
      "metadata": {
        "id": "GPvBPt7_fQpe",
        "colab": {
          "base_uri": "https://localhost:8080/"
        },
        "outputId": "5c933390-39dd-46cf-8ac4-c6b083dc2e4d"
      },
      "execution_count": 21,
      "outputs": [
        {
          "output_type": "execute_result",
          "data": {
            "text/plain": [
              "85.0"
            ]
          },
          "metadata": {},
          "execution_count": 21
        }
      ]
    },
    {
      "cell_type": "code",
      "execution_count": 22,
      "metadata": {
        "colab": {
          "base_uri": "https://localhost:8080/"
        },
        "id": "gMlGZWjCXaok",
        "outputId": "39410ba6-98f4-4358-bd69-f2b7c8e303b8"
      },
      "outputs": [
        {
          "output_type": "stream",
          "name": "stdout",
          "text": [
            "[2 8 2 6 6 7 1 9 8 5 2 8 6 6 6 6 1 0 5 8] ....\n",
            "[2 8 2 6 6 7 1 9 8 5 2 8 6 6 6 6 1 0 5 8] ....\n"
          ]
        }
      ],
      "source": [
        "print(y_pred[0:20],\"....\")\n",
        "print(y_test[0:20],\"....\")"
      ]
    },
    {
      "cell_type": "markdown",
      "source": [
        "THIS FUNCTION WILL BE USED FOR DOING 5 FOLD VALIDATION ON TRAINING AND TESTING DATA"
      ],
      "metadata": {
        "id": "E98P9tzDWBi5"
      }
    },
    {
      "cell_type": "code",
      "execution_count": 23,
      "metadata": {
        "id": "LxxUAU0XY0i5"
      },
      "outputs": [],
      "source": [
        "from sklearn.model_selection import cross_validate\n",
        "from sklearn.metrics import make_scorer\n",
        "def cross_validation(model, _X, _y, _cv):\n",
        "      _scoring =  ['accuracy']\n",
        "      results = cross_validate(estimator=model,\n",
        "                               X=_X,\n",
        "                               y=_y,\n",
        "                               cv=_cv,\n",
        "                               scoring=_scoring,\n",
        "                               return_train_score=True)\n",
        "      \n",
        "      return {\"Training Accuracy scores\": results['train_accuracy'],\n",
        "              \"Mean Training Accuracy\": results['train_accuracy'].mean()*100,\n",
        "             \"Validation Accuracy scores\": results['test_accuracy'],\n",
        "              \"Mean Validation Accuracy\": results['test_accuracy'].mean()*100,\n",
        "              }"
      ]
    },
    {
      "cell_type": "markdown",
      "source": [
        "THIS FUNCTION WILL PLOT THE ACCURACY WE WILL GET IN DIFFERENT FOLDS WHILE DOING 5 FOLD VALIDATION"
      ],
      "metadata": {
        "id": "Z2qBp_LOWTHg"
      }
    },
    {
      "cell_type": "code",
      "source": [
        "def plot_result(x_label, y_label, plot_title, train_data, val_data):\n",
        "        plt.figure(figsize=(12,6))\n",
        "        labels = [\"1st Fold\", \"2nd Fold\", \"3rd Fold\", \"4th Fold\", \"5th Fold\"]\n",
        "        X_axis = np.arange(len(labels))\n",
        "        ax = plt.gca()\n",
        "        plt.ylim(0.40000, 1)\n",
        "        plt.bar(X_axis-0.2, train_data, 0.4, color='blue', label='Training')\n",
        "        plt.bar(X_axis+0.2, val_data, 0.4, color='red', label='Validation')\n",
        "        plt.title(plot_title, fontsize=30)\n",
        "        plt.xticks(X_axis, labels)\n",
        "        plt.xlabel(x_label, fontsize=14)\n",
        "        plt.ylabel(y_label, fontsize=14)\n",
        "        plt.legend()\n",
        "        plt.grid(True)\n",
        "        plt.show()"
      ],
      "metadata": {
        "id": "gYdPE6k0gIIv"
      },
      "execution_count": 24,
      "outputs": []
    },
    {
      "cell_type": "markdown",
      "source": [
        "CALLING THE FUNCTION FOR 5 FOLD VALIDATION AND PRINTING MEAN ACCURACIES"
      ],
      "metadata": {
        "id": "3RBbm7yAWhv-"
      }
    },
    {
      "cell_type": "code",
      "source": [
        "decision_tree_result = cross_validation(model_dt,mnist.data,mnist.target,5)\n",
        "print(decision_tree_result)"
      ],
      "metadata": {
        "colab": {
          "base_uri": "https://localhost:8080/"
        },
        "id": "c4zxm5KhgUcH",
        "outputId": "52517a2f-ae2f-4356-e0c6-48b864ed13fa"
      },
      "execution_count": 25,
      "outputs": [
        {
          "output_type": "stream",
          "name": "stdout",
          "text": [
            "{'Training Accuracy scores': array([1., 1., 1., 1., 1.]), 'Mean Training Accuracy': 100.0, 'Validation Accuracy scores': array([0.77222222, 0.72777778, 0.79108635, 0.83008357, 0.80222841]), 'Mean Validation Accuracy': 78.46796657381616}\n"
          ]
        }
      ]
    },
    {
      "cell_type": "code",
      "source": [
        "model_name = \"Decision Tree\"\n",
        "plot_result(model_dt,\n",
        "            \"Accuracy\",\n",
        "            \"Accuracy scores in 5 Folds\",\n",
        "            decision_tree_result[\"Training Accuracy scores\"],\n",
        "            decision_tree_result[\"Validation Accuracy scores\"])\n"
      ],
      "metadata": {
        "colab": {
          "base_uri": "https://localhost:8080/",
          "height": 421
        },
        "id": "Z_XYEzs8kAG0",
        "outputId": "7841979d-feff-4cc0-8d25-22d6c407d45e"
      },
      "execution_count": 26,
      "outputs": [
        {
          "output_type": "display_data",
          "data": {
            "text/plain": [
              "<Figure size 864x432 with 1 Axes>"
            ],
            "image/png": "[encoded data removed]"
          },
          "metadata": {
            "needs_background": "light"
          }
        }
      ]
    },
    {
      "cell_type": "code",
      "source": [
        "k_fold_decisionTree_acc = decision_tree_result[\"Mean Validation Accuracy\"]"
      ],
      "metadata": {
        "id": "o3R1mpcWfCZt"
      },
      "execution_count": 27,
      "outputs": []
    },
    {
      "cell_type": "markdown",
      "source": [
        "CONFUSON MATRIX FOR DECISION TREE MODEL"
      ],
      "metadata": {
        "id": "Ay_Za-kYZMjM"
      }
    },
    {
      "cell_type": "code",
      "source": [
        "from sklearn.metrics import confusion_matrix, accuracy_score\n",
        "cm = confusion_matrix(y_test, Y_pred)\n",
        "print('for Decision Tree, Confusion Matrix:\\n',cm)\n",
        "classify=classification_report(y_test, Y_pred,output_dict=True)\n",
        "print('for Decision Tree, Classification Report\\n',classify)"
      ],
      "metadata": {
        "colab": {
          "base_uri": "https://localhost:8080/"
        },
        "id": "4Fr-SOqRaDC4",
        "outputId": "bf9cf1fa-3836-4f9d-cab3-65bf7bd24f8d"
      },
      "execution_count": 28,
      "outputs": [
        {
          "output_type": "stream",
          "name": "stdout",
          "text": [
            "for Decision Tree, Confusion Matrix:\n",
            " [[24  0  0  0  0  1  0  0  0  2]\n",
            " [ 0 30  0  3  1  0  0  0  0  1]\n",
            " [ 1  0 31  2  0  0  0  0  1  1]\n",
            " [ 0  0  0 26  0  0  0  1  0  2]\n",
            " [ 1  0  0  0 26  0  2  1  0  0]\n",
            " [ 0  0  0  1  1 32  0  1  1  4]\n",
            " [ 0  0  0  2  2  0 40  0  0  0]\n",
            " [ 0  0  0  0  1  1  0 37  0  0]\n",
            " [ 1  3  4  2  0  0  0  2 27  0]\n",
            " [ 0  0  0  3  0  3  0  0  2 33]]\n",
            "for Decision Tree, Classification Report\n",
            " {'0': {'precision': 0.8888888888888888, 'recall': 0.8888888888888888, 'f1-score': 0.8888888888888888, 'support': 27}, '1': {'precision': 0.9090909090909091, 'recall': 0.8571428571428571, 'f1-score': 0.8823529411764706, 'support': 35}, '2': {'precision': 0.8857142857142857, 'recall': 0.8611111111111112, 'f1-score': 0.8732394366197184, 'support': 36}, '3': {'precision': 0.6666666666666666, 'recall': 0.896551724137931, 'f1-score': 0.7647058823529411, 'support': 29}, '4': {'precision': 0.8387096774193549, 'recall': 0.8666666666666667, 'f1-score': 0.8524590163934426, 'support': 30}, '5': {'precision': 0.8648648648648649, 'recall': 0.8, 'f1-score': 0.8311688311688312, 'support': 40}, '6': {'precision': 0.9523809523809523, 'recall': 0.9090909090909091, 'f1-score': 0.9302325581395349, 'support': 44}, '7': {'precision': 0.8809523809523809, 'recall': 0.9487179487179487, 'f1-score': 0.9135802469135802, 'support': 39}, '8': {'precision': 0.8709677419354839, 'recall': 0.6923076923076923, 'f1-score': 0.7714285714285716, 'support': 39}, '9': {'precision': 0.7674418604651163, 'recall': 0.8048780487804879, 'f1-score': 0.7857142857142858, 'support': 41}, 'accuracy': 0.85, 'macro avg': {'precision': 0.8525678228378902, 'recall': 0.8525355846844492, 'f1-score': 0.8493770658796265, 'support': 360}, 'weighted avg': {'precision': 0.8569107703635085, 'recall': 0.85, 'f1-score': 0.8504884143723538, 'support': 360}}\n"
          ]
        }
      ]
    },
    {
      "cell_type": "code",
      "source": [
        "DT_precision =  classify['macro avg']['precision'] \n",
        "DT_recall = classify['macro avg']['recall']    \n",
        "DT_f1 = classify['macro avg']['f1-score']\n",
        "DT_precision = DT_precision*100\n",
        "DT_precision = round(DT_precision,3)\n",
        "DT_recall = DT_recall*100\n",
        "DT_recall = round(DT_recall,3)\n",
        "DT_f1 = DT_f1*100\n",
        "DT_f1 = round(DT_f1,3)"
      ],
      "metadata": {
        "id": "F3EO_X60faA3"
      },
      "execution_count": 29,
      "outputs": []
    },
    {
      "cell_type": "markdown",
      "metadata": {
        "id": "dCifkLthZwIu"
      },
      "source": [
        "**RANDOM** **FOREST** "
      ]
    },
    {
      "cell_type": "markdown",
      "source": [
        "APPLYING RANDOMIZED SEARCH CV FOR HYPERPARAMETER TUNING IN RANDOM FOREST MODEL"
      ],
      "metadata": {
        "id": "08X1uSLJ9U-1"
      }
    },
    {
      "cell_type": "code",
      "source": [
        "from sklearn.preprocessing import StandardScaler\n",
        "from scipy.stats import randint as sp_randint\n",
        "from sklearn.model_selection import RandomizedSearchCV\n",
        "ss = StandardScaler()\n",
        "X_train_ss = ss.fit_transform(X_train) \n",
        "X_test_ss = ss.transform(X_test)\n",
        "param_dist = {\"max_depth\": [3, 5], \n",
        "    \"max_features\": sp_randint(1, 11), \n",
        "    \"min_samples_split\": sp_randint(2, 11), \n",
        "    \"bootstrap\":[True,False],\n",
        "    \"criterion\": [\"gini\", \"entropy\"]} \n",
        "# build a classifier \n",
        "Rfc = RandomForestClassifier()\n",
        "# Randomized search\n",
        "random_search = RandomizedSearchCV(Rfc, param_distributions=param_dist, \n",
        "    n_iter=20, cv=5) \n",
        "random_search.fit(X_train_ss, y_train)\n",
        "print(random_search.best_params_)"
      ],
      "metadata": {
        "colab": {
          "base_uri": "https://localhost:8080/"
        },
        "id": "EePLQuxH9Vg8",
        "outputId": "8c287e96-6313-4e0c-d1c4-6d4a2e3763f6"
      },
      "execution_count": 30,
      "outputs": [
        {
          "output_type": "stream",
          "name": "stdout",
          "text": [
            "{'bootstrap': True, 'criterion': 'gini', 'max_depth': 5, 'max_features': 8, 'min_samples_split': 2}\n"
          ]
        }
      ]
    },
    {
      "cell_type": "markdown",
      "source": [
        "APPLYING GRID SEARCH ON RANDOM FOREST FOR HYPERPARAMETER TUNING"
      ],
      "metadata": {
        "id": "CLRiUQK0XhPF"
      }
    },
    {
      "cell_type": "code",
      "execution_count": 31,
      "metadata": {
        "colab": {
          "base_uri": "https://localhost:8080/"
        },
        "id": "ED1sBhxtZ7MB",
        "outputId": "a96d84b4-404a-4d6a-8601-bf228354cd80"
      },
      "outputs": [
        {
          "output_type": "stream",
          "name": "stdout",
          "text": [
            "Accuracy of the tuned model:  0.9784286682152536\n",
            "{'criterion': 'entropy', 'max_leaf_nodes': None, 'min_samples_leaf': 1, 'min_samples_split': 2}\n"
          ]
        }
      ],
      "source": [
        "criteria = [\"gini\", \"entropy\"] \n",
        "min_sample_split_range = [2,3] \n",
        "min_samples_leaf_range = [1,2,3] \n",
        "max_leaf_nodes_range = [None, 5,10] \n",
        "param_grid = {\n",
        "     \"criterion\": criteria,\n",
        "    \"min_samples_split\": min_sample_split_range,\n",
        "    \"min_samples_leaf\": min_samples_leaf_range,\n",
        "    \"max_leaf_nodes\": max_leaf_nodes_range \n",
        " }\n",
        "rf = RandomForestClassifier(criterion= criteria, max_leaf_nodes= max_leaf_nodes_range, min_samples_leaf= min_samples_leaf_range, min_samples_split= min_sample_split_range)\n",
        "grid = GridSearchCV(estimator=rf,\n",
        "                     param_grid=param_grid, \n",
        "                    cv = 5, \n",
        "                     scoring='accuracy',\n",
        "                    refit=True\n",
        ") \n",
        "t_model = make_pipeline(preprocessing.StandardScaler(), grid) \n",
        "t_model.fit(X_train, y_train) \n",
        "                            \n",
        "                            \n",
        "print(\"Accuracy of the tuned model: \", grid.best_score_)\n",
        "print(grid.best_params_)"
      ]
    },
    {
      "cell_type": "markdown",
      "source": [
        "USING THE BEST PARAMETERS TO TRAIN OUR MODEL OF RANDOM FOREST"
      ],
      "metadata": {
        "id": "RoX0C-NhXqzz"
      }
    },
    {
      "cell_type": "code",
      "source": [
        "rf = RandomForestClassifier(n_estimators=10,criterion= 'entropy', max_depth=None, max_leaf_nodes= None, min_samples_leaf= 1, min_samples_split= 2)\n",
        "rf.fit(X_train, y_train)\n",
        "Y_prediction = rf.predict(X_test)\n",
        "rf_acc=round(accuracy_score(y_test,Y_prediction)* 100, 2)\n",
        "random_forest_acc_score = round(rf.score(X_train, y_train) * 100, 2)"
      ],
      "metadata": {
        "id": "_joy1p3GnE_r"
      },
      "execution_count": 32,
      "outputs": []
    },
    {
      "cell_type": "code",
      "execution_count": 33,
      "metadata": {
        "id": "LWyEoSX6bzLq",
        "colab": {
          "base_uri": "https://localhost:8080/"
        },
        "outputId": "5bd9c4d9-fd9f-407d-ff79-c70babaa97e0"
      },
      "outputs": [
        {
          "output_type": "stream",
          "name": "stdout",
          "text": [
            "0.975\n"
          ]
        }
      ],
      "source": [
        "y_pred = t_model.predict( X_test)\n",
        "print(metrics.accuracy_score(y_test,y_pred))\n"
      ]
    },
    {
      "cell_type": "code",
      "execution_count": 34,
      "metadata": {
        "id": "Hgl-56Y8cAja",
        "colab": {
          "base_uri": "https://localhost:8080/"
        },
        "outputId": "291ea6ae-6176-4887-dcea-e61d06164106"
      },
      "outputs": [
        {
          "output_type": "stream",
          "name": "stdout",
          "text": [
            "[2 8 2 6 6 7 1 9 8 5 2 8 6 6 6 6 1 0 5 8] ....\n",
            "[2 8 2 6 6 7 1 9 8 5 2 8 6 6 6 6 1 0 5 8] ....\n"
          ]
        }
      ],
      "source": [
        "print(y_pred[0:20],'....')\n",
        "print(y_test[0:20],'....')"
      ]
    },
    {
      "cell_type": "markdown",
      "source": [
        "USING THE PREDEFINED 5 FOLD CROSS VALIDATION FUNCTION TO CALCULATE THE ACCURACIES"
      ],
      "metadata": {
        "id": "xE0tN-FVYAoK"
      }
    },
    {
      "cell_type": "code",
      "execution_count": 35,
      "metadata": {
        "id": "27KO3iiscJWP",
        "colab": {
          "base_uri": "https://localhost:8080/"
        },
        "outputId": "4ba72342-d2da-468a-91b2-70a21f158485"
      },
      "outputs": [
        {
          "output_type": "stream",
          "name": "stdout",
          "text": [
            "{'Training Accuracy scores': array([0.99860821, 0.99860821, 1.        , 1.        , 0.99930459]), 'Mean Training Accuracy': 99.93042025623231, 'Validation Accuracy scores': array([0.90277778, 0.86944444, 0.93314763, 0.93593315, 0.89972145]), 'Mean Validation Accuracy': 90.82048901268956}\n"
          ]
        }
      ],
      "source": [
        "Random_Forest_result = cross_validation(rf,mnist.data,mnist.target,5)\n",
        "print(Random_Forest_result)"
      ]
    },
    {
      "cell_type": "code",
      "source": [
        "model_name = \"Random Forest\"\n",
        "plot_result(rf,\n",
        "            \"Accuracy\",\n",
        "            \"Accuracy scores in 5 Folds\",\n",
        "            Random_Forest_result[\"Training Accuracy scores\"],\n",
        "            Random_Forest_result[\"Validation Accuracy scores\"])"
      ],
      "metadata": {
        "colab": {
          "base_uri": "https://localhost:8080/",
          "height": 421
        },
        "id": "bA71w8I1mB0F",
        "outputId": "c48bd701-fe58-482b-ee89-2fce4a5eacc4"
      },
      "execution_count": 36,
      "outputs": [
        {
          "output_type": "display_data",
          "data": {
            "text/plain": [
              "<Figure size 864x432 with 1 Axes>"
            ],
            "image/png": "[encoded data removed]"
          },
          "metadata": {
            "needs_background": "light"
          }
        }
      ]
    },
    {
      "cell_type": "code",
      "source": [
        "k_fold_RF_acc = Random_Forest_result[\"Mean Validation Accuracy\"]"
      ],
      "metadata": {
        "id": "VqC27lCvhZcS"
      },
      "execution_count": 37,
      "outputs": []
    },
    {
      "cell_type": "markdown",
      "source": [
        "CONFUSION MATRIX FOR RANDOM FOREST MODEL"
      ],
      "metadata": {
        "id": "Blx0vLCKZUFn"
      }
    },
    {
      "cell_type": "code",
      "source": [
        "from sklearn.metrics import confusion_matrix, accuracy_score\n",
        "cm = confusion_matrix(y_test, y_pred)\n",
        "print('for Random Forest, Confusion Matrix:\\n',cm)\n",
        "classify=classification_report(y_test, y_pred,output_dict=True)\n",
        "print('for Random Forest, Classification Report\\n',classify)"
      ],
      "metadata": {
        "colab": {
          "base_uri": "https://localhost:8080/"
        },
        "id": "V-FCRdFkhlb7",
        "outputId": "0ce5dbff-2a1b-48fe-d5c2-854f2108895a"
      },
      "execution_count": 38,
      "outputs": [
        {
          "output_type": "stream",
          "name": "stdout",
          "text": [
            "for Random Forest, Confusion Matrix:\n",
            " [[27  0  0  0  0  0  0  0  0  0]\n",
            " [ 0 34  0  0  0  1  0  0  0  0]\n",
            " [ 1  1 34  0  0  0  0  0  0  0]\n",
            " [ 0  0  0 29  0  0  0  0  0  0]\n",
            " [ 0  0  0  0 29  0  0  1  0  0]\n",
            " [ 0  0  0  0  0 39  0  0  0  1]\n",
            " [ 0  0  0  0  0  0 44  0  0  0]\n",
            " [ 0  0  0  0  0  0  0 39  0  0]\n",
            " [ 0  1  0  0  0  0  0  1 37  0]\n",
            " [ 0  0  0  1  0  1  0  0  0 39]]\n",
            "for Random Forest, Classification Report\n",
            " {'0': {'precision': 0.9642857142857143, 'recall': 1.0, 'f1-score': 0.9818181818181818, 'support': 27}, '1': {'precision': 0.9444444444444444, 'recall': 0.9714285714285714, 'f1-score': 0.9577464788732395, 'support': 35}, '2': {'precision': 1.0, 'recall': 0.9444444444444444, 'f1-score': 0.9714285714285714, 'support': 36}, '3': {'precision': 0.9666666666666667, 'recall': 1.0, 'f1-score': 0.983050847457627, 'support': 29}, '4': {'precision': 1.0, 'recall': 0.9666666666666667, 'f1-score': 0.983050847457627, 'support': 30}, '5': {'precision': 0.9512195121951219, 'recall': 0.975, 'f1-score': 0.9629629629629629, 'support': 40}, '6': {'precision': 1.0, 'recall': 1.0, 'f1-score': 1.0, 'support': 44}, '7': {'precision': 0.9512195121951219, 'recall': 1.0, 'f1-score': 0.975, 'support': 39}, '8': {'precision': 1.0, 'recall': 0.9487179487179487, 'f1-score': 0.9736842105263158, 'support': 39}, '9': {'precision': 0.975, 'recall': 0.9512195121951219, 'f1-score': 0.9629629629629629, 'support': 41}, 'accuracy': 0.975, 'macro avg': {'precision': 0.9752835849787068, 'recall': 0.9757477143452753, 'f1-score': 0.9751705063487488, 'support': 360}, 'weighted avg': {'precision': 0.9756831795500495, 'recall': 0.975, 'f1-score': 0.9750009179211365, 'support': 360}}\n"
          ]
        }
      ]
    },
    {
      "cell_type": "code",
      "source": [
        "RF_precision =  classify['macro avg']['precision'] \n",
        "RF_recall = classify['macro avg']['recall']    \n",
        "RF_f1 = classify['macro avg']['f1-score']\n",
        "RF_precision = RF_precision*100\n",
        "RF_precision = round(RF_precision,3)\n",
        "RF_recall = RF_recall*100\n",
        "RF_recall = round(RF_recall,3)\n",
        "RF_f1 = RF_f1*100\n",
        "RF_f1 = round(RF_f1,3)"
      ],
      "metadata": {
        "id": "aSGxADjBh2cO"
      },
      "execution_count": 39,
      "outputs": []
    },
    {
      "cell_type": "markdown",
      "metadata": {
        "id": "86gdjEpVBxVr"
      },
      "source": [
        "**KNN**"
      ]
    },
    {
      "cell_type": "code",
      "execution_count": 40,
      "metadata": {
        "id": "0eOBC7YJBzeh"
      },
      "outputs": [],
      "source": [
        "from sklearn.neighbors import KNeighborsClassifier\n",
        "from sklearn.metrics import classification_report"
      ]
    },
    {
      "cell_type": "markdown",
      "source": [
        "VARYING VALUE OF K IN KNN AND PLOTTING A GRAPH TO REPRESENT ACCURACY SCORES FOR DIFFERENT K"
      ],
      "metadata": {
        "id": "O5Y9_7Z7YOTO"
      }
    },
    {
      "cell_type": "code",
      "source": [
        "plt.subplots(figsize=(18,6))\n",
        "n_index=list(range(1,25))\n",
        "n = pd.Series([],dtype=pd.StringDtype()) \n",
        "x=range(1,25)\n",
        "for i in list(range(1,25)):\n",
        " knn_model=KNeighborsClassifier(n_neighbors=i) \n",
        " knn_model.fit(X_train, y_train) \n",
        " pred=knn_model.predict(X_test)\n",
        " n=n.append(pd.Series(accuracy_score(y_test,pred)))\n",
        "plt.plot(n_index, n,marker=\"*\")\n",
        "plt.xticks(x)\n",
        "plt.show()"
      ],
      "metadata": {
        "colab": {
          "base_uri": "https://localhost:8080/",
          "height": 375
        },
        "id": "p84W_igBQ0Xm",
        "outputId": "8bda56d7-9fb6-4c99-c761-e2f9d9f251c9"
      },
      "execution_count": 41,
      "outputs": [
        {
          "output_type": "display_data",
          "data": {
            "text/plain": [
              "<Figure size 1296x432 with 1 Axes>"
            ],
            "image/png": "[encoded data removed]"
          },
          "metadata": {
            "needs_background": "light"
          }
        }
      ]
    },
    {
      "cell_type": "code",
      "source": [
        "k_range = list(range(1, 31))\n",
        "print(k_range)"
      ],
      "metadata": {
        "colab": {
          "base_uri": "https://localhost:8080/"
        },
        "id": "kB2JpNsKnyJP",
        "outputId": "ff0f626d-42e9-4ff2-aaeb-1b10cb5f1168"
      },
      "execution_count": 42,
      "outputs": [
        {
          "output_type": "stream",
          "name": "stdout",
          "text": [
            "[1, 2, 3, 4, 5, 6, 7, 8, 9, 10, 11, 12, 13, 14, 15, 16, 17, 18, 19, 20, 21, 22, 23, 24, 25, 26, 27, 28, 29, 30]\n"
          ]
        }
      ]
    },
    {
      "cell_type": "code",
      "source": [
        "param_grid = dict(n_neighbors=k_range)\n",
        "print(param_grid)"
      ],
      "metadata": {
        "colab": {
          "base_uri": "https://localhost:8080/"
        },
        "id": "Rnp2A6fQqXKi",
        "outputId": "ed8cc0de-18fd-4633-f0e4-9d56ff31b11a"
      },
      "execution_count": 43,
      "outputs": [
        {
          "output_type": "stream",
          "name": "stdout",
          "text": [
            "{'n_neighbors': [1, 2, 3, 4, 5, 6, 7, 8, 9, 10, 11, 12, 13, 14, 15, 16, 17, 18, 19, 20, 21, 22, 23, 24, 25, 26, 27, 28, 29, 30]}\n"
          ]
        }
      ]
    },
    {
      "cell_type": "markdown",
      "source": [
        "APPLYING RANDOMIZED SEARCH CV FOR HYPERPARAMETER TUNING IN KNN"
      ],
      "metadata": {
        "id": "K71QhHGh_ir6"
      }
    },
    {
      "cell_type": "code",
      "source": [
        "knn=KNeighborsClassifier()\n",
        "rand = RandomizedSearchCV(knn, param_grid, cv=10, scoring='accuracy', n_iter=10, random_state=5)\n",
        "rand.fit(X_train, y_train)\n",
        "rand.cv_results_"
      ],
      "metadata": {
        "colab": {
          "base_uri": "https://localhost:8080/"
        },
        "id": "h1zW2iiK_SjS",
        "outputId": "b7e04ccc-5893-4917-e106-71d601ac8053"
      },
      "execution_count": 47,
      "outputs": [
        {
          "output_type": "execute_result",
          "data": {
            "text/plain": [
              "{'mean_fit_time': array([0.00247924, 0.00212793, 0.00331521, 0.00289419, 0.00222776,\n",
              "        0.00152218, 0.00267165, 0.00143127, 0.00268695, 0.00145857]),\n",
              " 'std_fit_time': array([0.00183489, 0.00131194, 0.00307805, 0.00266601, 0.00181668,\n",
              "        0.00030497, 0.002609  , 0.00011622, 0.00390186, 0.00019394]),\n",
              " 'mean_score_time': array([0.02054925, 0.04275179, 0.04191763, 0.02426534, 0.02964807,\n",
              "        0.01802738, 0.0238729 , 0.016786  , 0.01786993, 0.04164677]),\n",
              " 'std_score_time': array([0.01522173, 0.05100941, 0.03681045, 0.02134276, 0.03729746,\n",
              "        0.00583345, 0.01966589, 0.01014378, 0.00890258, 0.03785992]),\n",
              " 'param_n_neighbors': masked_array(data=[12, 30, 24, 26, 19, 11, 3, 14, 27, 22],\n",
              "              mask=[False, False, False, False, False, False, False, False,\n",
              "                    False, False],\n",
              "        fill_value='?',\n",
              "             dtype=object),\n",
              " 'params': [{'n_neighbors': 12},\n",
              "  {'n_neighbors': 30},\n",
              "  {'n_neighbors': 24},\n",
              "  {'n_neighbors': 26},\n",
              "  {'n_neighbors': 19},\n",
              "  {'n_neighbors': 11},\n",
              "  {'n_neighbors': 3},\n",
              "  {'n_neighbors': 14},\n",
              "  {'n_neighbors': 27},\n",
              "  {'n_neighbors': 22}],\n",
              " 'split0_test_score': array([0.97222222, 0.95833333, 0.95833333, 0.95833333, 0.96527778,\n",
              "        0.97222222, 0.99305556, 0.97222222, 0.95833333, 0.96527778]),\n",
              " 'split1_test_score': array([0.97222222, 0.9375    , 0.94444444, 0.94444444, 0.96527778,\n",
              "        0.97916667, 0.98611111, 0.97222222, 0.94444444, 0.95833333]),\n",
              " 'split2_test_score': array([0.98611111, 0.97916667, 0.97916667, 0.97916667, 0.98611111,\n",
              "        0.98611111, 0.98611111, 0.98611111, 0.97916667, 0.97916667]),\n",
              " 'split3_test_score': array([0.97916667, 0.96527778, 0.96527778, 0.96527778, 0.97222222,\n",
              "        0.97916667, 0.98611111, 0.97916667, 0.96527778, 0.96527778]),\n",
              " 'split4_test_score': array([0.98611111, 0.96527778, 0.97916667, 0.97916667, 0.97916667,\n",
              "        0.99305556, 1.        , 0.99305556, 0.97916667, 0.97916667]),\n",
              " 'split5_test_score': array([0.96527778, 0.95833333, 0.95138889, 0.95833333, 0.98611111,\n",
              "        0.96527778, 0.97916667, 0.97222222, 0.95833333, 0.96527778]),\n",
              " 'split6_test_score': array([0.98611111, 0.95833333, 0.95833333, 0.95833333, 0.97916667,\n",
              "        0.98611111, 1.        , 0.97916667, 0.95833333, 0.96527778]),\n",
              " 'split7_test_score': array([0.96503497, 0.93706294, 0.95104895, 0.93706294, 0.94405594,\n",
              "        0.96503497, 0.96503497, 0.96503497, 0.94405594, 0.94405594]),\n",
              " 'split8_test_score': array([0.98601399, 0.97902098, 0.97902098, 0.97902098, 0.97202797,\n",
              "        0.98601399, 0.97902098, 0.98601399, 0.97902098, 0.97902098]),\n",
              " 'split9_test_score': array([0.97902098, 0.96503497, 0.97202797, 0.96503497, 0.97902098,\n",
              "        0.97902098, 0.99300699, 0.98601399, 0.96503497, 0.97202797]),\n",
              " 'mean_test_score': array([0.97772922, 0.96033411, 0.9638209 , 0.96241744, 0.97284382,\n",
              "        0.9791181 , 0.98676185, 0.97912296, 0.96311674, 0.96728827]),\n",
              " 'std_test_score': array([0.0081239 , 0.01360072, 0.01234851, 0.01366639, 0.01189302,\n",
              "        0.00881514, 0.01009973, 0.00824172, 0.01247841, 0.01038467]),\n",
              " 'rank_test_score': array([ 4, 10,  7,  9,  5,  3,  1,  2,  8,  6], dtype=int32)}"
            ]
          },
          "metadata": {},
          "execution_count": 47
        }
      ]
    },
    {
      "cell_type": "code",
      "source": [
        "print(rand.best_score_)\n",
        "print(rand.best_params_)"
      ],
      "metadata": {
        "colab": {
          "base_uri": "https://localhost:8080/"
        },
        "id": "88sd7Chx_bMu",
        "outputId": "65fd427b-0525-4550-942a-42dbfe16042a"
      },
      "execution_count": 48,
      "outputs": [
        {
          "output_type": "stream",
          "name": "stdout",
          "text": [
            "0.9867618492618492\n",
            "{'n_neighbors': 3}\n"
          ]
        }
      ]
    },
    {
      "cell_type": "markdown",
      "source": [
        "APPLYING GRID SEARCH CV FOR HYPERPARAMETER TUNING IN KNN"
      ],
      "metadata": {
        "id": "JegOvTeqYhzw"
      }
    },
    {
      "cell_type": "code",
      "source": [
        "grid = GridSearchCV(knn_model, param_grid, cv=10, scoring='accuracy', return_train_score=False)\n",
        "grid.fit(mnist.data, mnist.target)"
      ],
      "metadata": {
        "colab": {
          "base_uri": "https://localhost:8080/",
          "height": 117
        },
        "id": "PJRzoCCSn2EJ",
        "outputId": "a1ce9f2f-c261-40b3-e8f7-63df3a4a5fef"
      },
      "execution_count": 49,
      "outputs": [
        {
          "output_type": "execute_result",
          "data": {
            "text/plain": [
              "GridSearchCV(cv=10, estimator=KNeighborsClassifier(n_neighbors=24),\n",
              "             param_grid={'n_neighbors': [1, 2, 3, 4, 5, 6, 7, 8, 9, 10, 11, 12,\n",
              "                                         13, 14, 15, 16, 17, 18, 19, 20, 21, 22,\n",
              "                                         23, 24, 25, 26, 27, 28, 29, 30]},\n",
              "             scoring='accuracy')"
            ],
            "text/html": [
              "<style>#sk-container-id-1 {color: black;background-color: white;}#sk-container-id-1 pre{padding: 0;}#sk-container-id-1 div.sk-toggleable {background-color: white;}#sk-container-id-1 label.sk-toggleable__label {cursor: pointer;display: block;width: 100%;margin-bottom: 0;padding: 0.3em;box-sizing: border-box;text-align: center;}#sk-container-id-1 label.sk-toggleable__label-arrow:before {content: \"▸\";float: left;margin-right: 0.25em;color: #696969;}#sk-container-id-1 label.sk-toggleable__label-arrow:hover:before {color: black;}#sk-container-id-1 div.sk-estimator:hover label.sk-toggleable__label-arrow:before {color: black;}#sk-container-id-1 div.sk-toggleable__content {max-height: 0;max-width: 0;overflow: hidden;text-align: left;background-color: #f0f8ff;}#sk-container-id-1 div.sk-toggleable__content pre {margin: 0.2em;color: black;border-radius: 0.25em;background-color: #f0f8ff;}#sk-container-id-1 input.sk-toggleable__control:checked~div.sk-toggleable__content {max-height: 200px;max-width: 100%;overflow: auto;}#sk-container-id-1 input.sk-toggleable__control:checked~label.sk-toggleable__label-arrow:before {content: \"▾\";}#sk-container-id-1 div.sk-estimator input.sk-toggleable__control:checked~label.sk-toggleable__label {background-color: #d4ebff;}#sk-container-id-1 div.sk-label input.sk-toggleable__control:checked~label.sk-toggleable__label {background-color: #d4ebff;}#sk-container-id-1 input.sk-hidden--visually {border: 0;clip: rect(1px 1px 1px 1px);clip: rect(1px, 1px, 1px, 1px);height: 1px;margin: -1px;overflow: hidden;padding: 0;position: absolute;width: 1px;}#sk-container-id-1 div.sk-estimator {font-family: monospace;background-color: #f0f8ff;border: 1px dotted black;border-radius: 0.25em;box-sizing: border-box;margin-bottom: 0.5em;}#sk-container-id-1 div.sk-estimator:hover {background-color: #d4ebff;}#sk-container-id-1 div.sk-parallel-item::after {content: \"\";width: 100%;border-bottom: 1px solid gray;flex-grow: 1;}#sk-container-id-1 div.sk-label:hover label.sk-toggleable__label {background-color: #d4ebff;}#sk-container-id-1 div.sk-serial::before {content: \"\";position: absolute;border-left: 1px solid gray;box-sizing: border-box;top: 0;bottom: 0;left: 50%;z-index: 0;}#sk-container-id-1 div.sk-serial {display: flex;flex-direction: column;align-items: center;background-color: white;padding-right: 0.2em;padding-left: 0.2em;position: relative;}#sk-container-id-1 div.sk-item {position: relative;z-index: 1;}#sk-container-id-1 div.sk-parallel {display: flex;align-items: stretch;justify-content: center;background-color: white;position: relative;}#sk-container-id-1 div.sk-item::before, #sk-container-id-1 div.sk-parallel-item::before {content: \"\";position: absolute;border-left: 1px solid gray;box-sizing: border-box;top: 0;bottom: 0;left: 50%;z-index: -1;}#sk-container-id-1 div.sk-parallel-item {display: flex;flex-direction: column;z-index: 1;position: relative;background-color: white;}#sk-container-id-1 div.sk-parallel-item:first-child::after {align-self: flex-end;width: 50%;}#sk-container-id-1 div.sk-parallel-item:last-child::after {align-self: flex-start;width: 50%;}#sk-container-id-1 div.sk-parallel-item:only-child::after {width: 0;}#sk-container-id-1 div.sk-dashed-wrapped {border: 1px dashed gray;margin: 0 0.4em 0.5em 0.4em;box-sizing: border-box;padding-bottom: 0.4em;background-color: white;}#sk-container-id-1 div.sk-label label {font-family: monospace;font-weight: bold;display: inline-block;line-height: 1.2em;}#sk-container-id-1 div.sk-label-container {text-align: center;}#sk-container-id-1 div.sk-container {/* jupyter's `normalize.less` sets `[hidden] { display: none; }` but bootstrap.min.css set `[hidden] { display: none !important; }` so we also need the `!important` here to be able to override the default hidden behavior on the sphinx rendered scikit-learn.org. See: https://github.com/scikit-learn/scikit-learn/issues/21755 */display: inline-block !important;position: relative;}#sk-container-id-1 div.sk-text-repr-fallback {display: none;}</style><div id=\"sk-container-id-1\" class=\"sk-top-container\"><div class=\"sk-text-repr-fallback\"><pre>GridSearchCV(cv=10, estimator=KNeighborsClassifier(n_neighbors=24),\n",
              "             param_grid={&#x27;n_neighbors&#x27;: [1, 2, 3, 4, 5, 6, 7, 8, 9, 10, 11, 12,\n",
              "                                         13, 14, 15, 16, 17, 18, 19, 20, 21, 22,\n",
              "                                         23, 24, 25, 26, 27, 28, 29, 30]},\n",
              "             scoring=&#x27;accuracy&#x27;)</pre><b>In a Jupyter environment, please rerun this cell to show the HTML representation or trust the notebook. <br />On GitHub, the HTML representation is unable to render, please try loading this page with nbviewer.org.</b></div><div class=\"sk-container\" hidden><div class=\"sk-item sk-dashed-wrapped\"><div class=\"sk-label-container\"><div class=\"sk-label sk-toggleable\"><input class=\"sk-toggleable__control sk-hidden--visually\" id=\"sk-estimator-id-1\" type=\"checkbox\" ><label for=\"sk-estimator-id-1\" class=\"sk-toggleable__label sk-toggleable__label-arrow\">GridSearchCV</label><div class=\"sk-toggleable__content\"><pre>GridSearchCV(cv=10, estimator=KNeighborsClassifier(n_neighbors=24),\n",
              "             param_grid={&#x27;n_neighbors&#x27;: [1, 2, 3, 4, 5, 6, 7, 8, 9, 10, 11, 12,\n",
              "                                         13, 14, 15, 16, 17, 18, 19, 20, 21, 22,\n",
              "                                         23, 24, 25, 26, 27, 28, 29, 30]},\n",
              "             scoring=&#x27;accuracy&#x27;)</pre></div></div></div><div class=\"sk-parallel\"><div class=\"sk-parallel-item\"><div class=\"sk-item\"><div class=\"sk-label-container\"><div class=\"sk-label sk-toggleable\"><input class=\"sk-toggleable__control sk-hidden--visually\" id=\"sk-estimator-id-2\" type=\"checkbox\" ><label for=\"sk-estimator-id-2\" class=\"sk-toggleable__label sk-toggleable__label-arrow\">estimator: KNeighborsClassifier</label><div class=\"sk-toggleable__content\"><pre>KNeighborsClassifier(n_neighbors=24)</pre></div></div></div><div class=\"sk-serial\"><div class=\"sk-item\"><div class=\"sk-estimator sk-toggleable\"><input class=\"sk-toggleable__control sk-hidden--visually\" id=\"sk-estimator-id-3\" type=\"checkbox\" ><label for=\"sk-estimator-id-3\" class=\"sk-toggleable__label sk-toggleable__label-arrow\">KNeighborsClassifier</label><div class=\"sk-toggleable__content\"><pre>KNeighborsClassifier(n_neighbors=24)</pre></div></div></div></div></div></div></div></div></div></div>"
            ]
          },
          "metadata": {},
          "execution_count": 49
        }
      ]
    },
    {
      "cell_type": "markdown",
      "source": [
        "THESE ARE THE SCORES WE GOT AS WE VARIED PARAMETERS IN GRID SEARCH CV"
      ],
      "metadata": {
        "id": "y8lPIGdxYtTj"
      }
    },
    {
      "cell_type": "code",
      "source": [
        "grid_mean_scores = grid.cv_results_['mean_test_score']\n",
        "print(grid_mean_scores)"
      ],
      "metadata": {
        "colab": {
          "base_uri": "https://localhost:8080/"
        },
        "id": "Q3GpjBsZqlhN",
        "outputId": "28f0bfad-eea9-4808-b351-66017ae298d5"
      },
      "execution_count": 50,
      "outputs": [
        {
          "output_type": "stream",
          "name": "stdout",
          "text": [
            "[0.97496276 0.9744072  0.97663253 0.97218187 0.97162942 0.96828988\n",
            " 0.96773433 0.96494413 0.96494413 0.96216325 0.96382682 0.96438858\n",
            " 0.96327126 0.96326816 0.96215705 0.96216015 0.96159839 0.9627157\n",
            " 0.96215705 0.95882371 0.95937616 0.95882371 0.95882371 0.95714773\n",
            " 0.95492241 0.95492551 0.95437306 0.95437616 0.95103973 0.94824953]\n"
          ]
        }
      ]
    },
    {
      "cell_type": "markdown",
      "source": [
        "THESE ARE THE BEST PARAMETERS AFTER COMPILING THE RESULTS"
      ],
      "metadata": {
        "id": "tE2v6vwRY5ZJ"
      }
    },
    {
      "cell_type": "code",
      "source": [
        "print(grid.best_score_)\n",
        "print(grid.best_params_)\n",
        "print(grid.best_estimator_)"
      ],
      "metadata": {
        "colab": {
          "base_uri": "https://localhost:8080/"
        },
        "id": "B6m6rWMarTcb",
        "outputId": "23d011e3-3c68-41b7-ead6-1fe00cb752d0"
      },
      "execution_count": 51,
      "outputs": [
        {
          "output_type": "stream",
          "name": "stdout",
          "text": [
            "0.9766325263811299\n",
            "{'n_neighbors': 3}\n",
            "KNeighborsClassifier(n_neighbors=3)\n"
          ]
        }
      ]
    },
    {
      "cell_type": "markdown",
      "source": [
        "USING THE BEST PARAMETERS TO TRAIN OUR MODEL"
      ],
      "metadata": {
        "id": "7l0byUNEY913"
      }
    },
    {
      "cell_type": "code",
      "source": [
        "knn_model = KNeighborsClassifier(n_neighbors=3)\n",
        "knn_model.fit(X_train,y_train)\n",
        "Y_pred = knn_model.predict(X_test)\n",
        "knn_acc=round(accuracy_score(y_test,Y_pred)* 100, 2)\n",
        "knn_acc_score = round(knn_model.score(X_train, y_train) * 100, 2)"
      ],
      "metadata": {
        "id": "nKYOOmFGtJhR"
      },
      "execution_count": 52,
      "outputs": []
    },
    {
      "cell_type": "markdown",
      "source": [
        "DOING 5 FOLD VALIDAION TAKING ACCURACY AS A PARAMETER"
      ],
      "metadata": {
        "id": "8adjIGXeZbAT"
      }
    },
    {
      "cell_type": "code",
      "source": [
        "KNN_result = cross_validation(knn_model,mnist.data,mnist.target,5)\n",
        "print(KNN_result)"
      ],
      "metadata": {
        "colab": {
          "base_uri": "https://localhost:8080/"
        },
        "id": "2zjTwlQVmx-r",
        "outputId": "a8b493c1-89f3-4dc1-9b6f-f8310287fa18"
      },
      "execution_count": 53,
      "outputs": [
        {
          "output_type": "stream",
          "name": "stdout",
          "text": [
            "{'Training Accuracy scores': array([0.99304106, 0.99443285, 0.99235049, 0.99443672, 0.99374131]), 'Mean Training Accuracy': 99.36004831577144, 'Validation Accuracy scores': array([0.95555556, 0.95833333, 0.96657382, 0.98607242, 0.96657382]), 'Mean Validation Accuracy': 96.6621788919839}\n"
          ]
        }
      ]
    },
    {
      "cell_type": "code",
      "source": [
        "model_name = \"KNN\"\n",
        "plot_result(knn_model,\n",
        "            \"Accuracy\",\n",
        "            \"Accuracy scores in 5 Folds\",\n",
        "            KNN_result[\"Training Accuracy scores\"],\n",
        "            KNN_result[\"Validation Accuracy scores\"])"
      ],
      "metadata": {
        "colab": {
          "base_uri": "https://localhost:8080/",
          "height": 421
        },
        "id": "rvIzd3TQq8mj",
        "outputId": "f8426daa-b539-405c-f220-46fcbe876f61"
      },
      "execution_count": 54,
      "outputs": [
        {
          "output_type": "display_data",
          "data": {
            "text/plain": [
              "<Figure size 864x432 with 1 Axes>"
            ],
            "image/png": "[encoded data removed]"
          },
          "metadata": {
            "needs_background": "light"
          }
        }
      ]
    },
    {
      "cell_type": "code",
      "source": [
        "k_fold_KNN_acc =  KNN_result[\"Mean Validation Accuracy\"]"
      ],
      "metadata": {
        "id": "vF0fGHRciis5"
      },
      "execution_count": 55,
      "outputs": []
    },
    {
      "cell_type": "markdown",
      "source": [
        "CONFUSION MATRIX FOR KNN MODEL"
      ],
      "metadata": {
        "id": "2p55ytSiZgy7"
      }
    },
    {
      "cell_type": "code",
      "source": [
        "from sklearn.metrics import confusion_matrix, accuracy_score\n",
        "cm = confusion_matrix(y_test, Y_pred)\n",
        "print('for KNN, Confusion Matrix:\\n',cm)\n",
        "classify=classification_report(y_test, Y_pred,output_dict=True)\n",
        "print('for KNN, Classification Report\\n',classify)"
      ],
      "metadata": {
        "colab": {
          "base_uri": "https://localhost:8080/"
        },
        "id": "uqznVJRQiu7h",
        "outputId": "17e409b3-f4fa-4b73-aeae-b23f27bbd9cb"
      },
      "execution_count": 57,
      "outputs": [
        {
          "output_type": "stream",
          "name": "stdout",
          "text": [
            "for KNN, Confusion Matrix:\n",
            " [[27  0  0  0  0  0  0  0  0  0]\n",
            " [ 0 34  0  0  0  1  0  0  0  0]\n",
            " [ 0  0 36  0  0  0  0  0  0  0]\n",
            " [ 0  0  1 28  0  0  0  0  0  0]\n",
            " [ 0  0  0  0 29  0  0  1  0  0]\n",
            " [ 0  0  0  0  0 39  0  0  0  1]\n",
            " [ 0  0  0  0  0  0 44  0  0  0]\n",
            " [ 0  0  0  0  0  0  0 39  0  0]\n",
            " [ 0  0  0  2  0  0  0  0 37  0]\n",
            " [ 0  0  0  0  0  0  0  0  0 41]]\n",
            "for KNN, Classification Report\n",
            " {'0': {'precision': 1.0, 'recall': 1.0, 'f1-score': 1.0, 'support': 27}, '1': {'precision': 1.0, 'recall': 0.9714285714285714, 'f1-score': 0.9855072463768115, 'support': 35}, '2': {'precision': 0.972972972972973, 'recall': 1.0, 'f1-score': 0.9863013698630138, 'support': 36}, '3': {'precision': 0.9333333333333333, 'recall': 0.9655172413793104, 'f1-score': 0.9491525423728815, 'support': 29}, '4': {'precision': 1.0, 'recall': 0.9666666666666667, 'f1-score': 0.983050847457627, 'support': 30}, '5': {'precision': 0.975, 'recall': 0.975, 'f1-score': 0.975, 'support': 40}, '6': {'precision': 1.0, 'recall': 1.0, 'f1-score': 1.0, 'support': 44}, '7': {'precision': 0.975, 'recall': 1.0, 'f1-score': 0.9873417721518987, 'support': 39}, '8': {'precision': 1.0, 'recall': 0.9487179487179487, 'f1-score': 0.9736842105263158, 'support': 39}, '9': {'precision': 0.9761904761904762, 'recall': 1.0, 'f1-score': 0.9879518072289156, 'support': 41}, 'accuracy': 0.9833333333333333, 'macro avg': {'precision': 0.9832496782496782, 'recall': 0.9827330428192497, 'f1-score': 0.9827989795977462, 'support': 360}, 'weighted avg': {'precision': 0.9837291756041755, 'recall': 0.9833333333333333, 'f1-score': 0.9833405264212088, 'support': 360}}\n"
          ]
        }
      ]
    },
    {
      "cell_type": "code",
      "source": [
        "KNN_precision =  classify['macro avg']['precision'] \n",
        "KNN_recall = classify['macro avg']['recall']    \n",
        "KNN_f1 = classify['macro avg']['f1-score']\n",
        "KNN_precision = KNN_precision*100\n",
        "KNN_precision = round(KNN_precision,3)\n",
        "KNN_recall = KNN_recall*100\n",
        "KNN_recall = round(KNN_recall,3)\n",
        "KNN_f1 = KNN_f1*100\n",
        "KNN_f1 = round(KNN_f1,3)"
      ],
      "metadata": {
        "id": "HOa9DK6FjGp2"
      },
      "execution_count": 58,
      "outputs": []
    },
    {
      "cell_type": "markdown",
      "source": [
        "**NAIVE BAYES**"
      ],
      "metadata": {
        "id": "JQyrK1QLtsW4"
      }
    },
    {
      "cell_type": "markdown",
      "source": [
        "APPLYING GRID SEARCH CV FOR HYPERPARAMETER TUNING FOR NAIVE BAYES"
      ],
      "metadata": {
        "id": "AcrjMyMYZKoJ"
      }
    },
    {
      "cell_type": "code",
      "source": [
        "var_smoothing=[1e-9,1e-8,1e-7]\n",
        "par_grid = {\"var_smoothing\": var_smoothing}\n",
        "nb=GaussianNB()\n",
        "grid = GridSearchCV(estimator=nb,param_grid=par_grid,cv = 5,scoring='accuracy',refit=True) \n",
        "t_model = make_pipeline(preprocessing.StandardScaler(), grid) \n",
        "t_model.fit(X_train, y_train) \n",
        "print(\"Tuned model Accuracy: \", grid.best_score_)\n",
        "print(grid.best_params_)\n",
        "print(grid.best_score_)"
      ],
      "metadata": {
        "colab": {
          "base_uri": "https://localhost:8080/"
        },
        "id": "BMDxP2JoYEjy",
        "outputId": "e04b4e43-c9bd-4885-b290-7c5a9c0932d7"
      },
      "execution_count": 59,
      "outputs": [
        {
          "output_type": "stream",
          "name": "stdout",
          "text": [
            "Tuned model Accuracy:  0.8204631242740998\n",
            "{'var_smoothing': 1e-07}\n",
            "0.8204631242740998\n"
          ]
        }
      ]
    },
    {
      "cell_type": "markdown",
      "source": [
        "USING THE BEST PARAMETERS WE GOT TO TRAIN OUR MODEL"
      ],
      "metadata": {
        "id": "q_TR9NgJZSTi"
      }
    },
    {
      "cell_type": "code",
      "source": [
        "nb = GaussianNB(var_smoothing=1e-7)\n",
        "nb.fit(X_train, y_train)\n",
        "Y_pred = nb.predict(X_test) \n",
        "nb_acc=round(accuracy_score(y_test,Y_pred)* 100, 2)\n",
        "gaussian_acc_score = round(nb.score(X_train, y_train) * 100, 2)\n",
        "print(nb_acc)\n",
        "print(gaussian_acc_score)"
      ],
      "metadata": {
        "colab": {
          "base_uri": "https://localhost:8080/"
        },
        "id": "Kv8dpnrovbpC",
        "outputId": "bbd03348-6cc0-42b7-985a-dd1c94ce21a3"
      },
      "execution_count": 60,
      "outputs": [
        {
          "output_type": "stream",
          "name": "stdout",
          "text": [
            "85.83\n",
            "88.94\n"
          ]
        }
      ]
    },
    {
      "cell_type": "markdown",
      "source": [
        "USING THE PREDEFINED FUNCTION TO CALCULATE ACCURACIES ON 5 FOLD VALIDATION"
      ],
      "metadata": {
        "id": "3Vl_r4oOZYvo"
      }
    },
    {
      "cell_type": "code",
      "source": [
        "Naive_Bayes_result = cross_validation(nb,mnist.data,mnist.target,5)\n",
        "print(Naive_Bayes_result)"
      ],
      "metadata": {
        "colab": {
          "base_uri": "https://localhost:8080/"
        },
        "id": "BqskzqtbYWr9",
        "outputId": "78addcc4-8285-4a6f-a302-00063f13ed45"
      },
      "execution_count": 61,
      "outputs": [
        {
          "output_type": "stream",
          "name": "stdout",
          "text": [
            "{'Training Accuracy scores': array([0.89909534, 0.90953375, 0.89707928, 0.87552156, 0.90959666]), 'Mean Training Accuracy': 89.8165316980303, 'Validation Accuracy scores': array([0.83333333, 0.79722222, 0.81337047, 0.89415042, 0.82451253]), 'Mean Validation Accuracy': 83.251779634788}\n"
          ]
        }
      ]
    },
    {
      "cell_type": "code",
      "source": [
        "model_name = \"Naive Bayes\"\n",
        "plot_result(nb,\n",
        "            \"Accuracy\",\n",
        "            \"Accuracy scores in 5 Folds\",\n",
        "            Naive_Bayes_result[\"Training Accuracy scores\"],\n",
        "            Naive_Bayes_result[\"Validation Accuracy scores\"])"
      ],
      "metadata": {
        "id": "hMzFnZnIZrRw",
        "colab": {
          "base_uri": "https://localhost:8080/",
          "height": 421
        },
        "outputId": "291c01c1-232c-400f-f065-96f209a07f8d"
      },
      "execution_count": 62,
      "outputs": [
        {
          "output_type": "display_data",
          "data": {
            "text/plain": [
              "<Figure size 864x432 with 1 Axes>"
            ],
            "image/png": "[encoded data removed]"
          },
          "metadata": {
            "needs_background": "light"
          }
        }
      ]
    },
    {
      "cell_type": "code",
      "source": [
        "k_fold_NB_acc =  Naive_Bayes_result[\"Mean Validation Accuracy\"]"
      ],
      "metadata": {
        "id": "zfZ6QAtLjeMS"
      },
      "execution_count": 63,
      "outputs": []
    },
    {
      "cell_type": "markdown",
      "source": [
        "CONFUSION MATRIX FOR NAIVE BAYES MODEL"
      ],
      "metadata": {
        "id": "ajvC3L5VZpR9"
      }
    },
    {
      "cell_type": "code",
      "source": [
        "from sklearn.metrics import confusion_matrix, accuracy_score\n",
        "cm = confusion_matrix(y_test, Y_pred)\n",
        "print('for Naive Bayes, Confusion Matrix:\\n',cm)\n",
        "classify=classification_report(y_test, Y_pred,output_dict=True)\n",
        "print('for Naive Bayes, Classification Report\\n',classify)"
      ],
      "metadata": {
        "colab": {
          "base_uri": "https://localhost:8080/"
        },
        "id": "kmQmuJ53jmcr",
        "outputId": "2b07a35a-ed3d-459c-ba5d-050b24704038"
      },
      "execution_count": 64,
      "outputs": [
        {
          "output_type": "stream",
          "name": "stdout",
          "text": [
            "for Naive Bayes, Confusion Matrix:\n",
            " [[27  0  0  0  0  0  0  0  0  0]\n",
            " [ 0 29  0  0  0  0  0  0  5  1]\n",
            " [ 0  6 21  2  0  0  0  0  7  0]\n",
            " [ 0  0  1 24  0  0  0  0  4  0]\n",
            " [ 0  1  0  0 27  0  0  2  0  0]\n",
            " [ 0  1  0  0  0 36  0  2  0  1]\n",
            " [ 0  0  0  0  0  0 44  0  0  0]\n",
            " [ 0  0  0  0  0  0  0 39  0  0]\n",
            " [ 0  3  0  0  0  1  0  1 34  0]\n",
            " [ 0  1  0  3  0  0  0  3  6 28]]\n",
            "for Naive Bayes, Classification Report\n",
            " {'0': {'precision': 1.0, 'recall': 1.0, 'f1-score': 1.0, 'support': 27}, '1': {'precision': 0.7073170731707317, 'recall': 0.8285714285714286, 'f1-score': 0.7631578947368421, 'support': 35}, '2': {'precision': 0.9545454545454546, 'recall': 0.5833333333333334, 'f1-score': 0.7241379310344828, 'support': 36}, '3': {'precision': 0.8275862068965517, 'recall': 0.8275862068965517, 'f1-score': 0.8275862068965517, 'support': 29}, '4': {'precision': 1.0, 'recall': 0.9, 'f1-score': 0.9473684210526316, 'support': 30}, '5': {'precision': 0.972972972972973, 'recall': 0.9, 'f1-score': 0.935064935064935, 'support': 40}, '6': {'precision': 1.0, 'recall': 1.0, 'f1-score': 1.0, 'support': 44}, '7': {'precision': 0.8297872340425532, 'recall': 1.0, 'f1-score': 0.9069767441860465, 'support': 39}, '8': {'precision': 0.6071428571428571, 'recall': 0.8717948717948718, 'f1-score': 0.7157894736842105, 'support': 39}, '9': {'precision': 0.9333333333333333, 'recall': 0.6829268292682927, 'f1-score': 0.7887323943661972, 'support': 41}, 'accuracy': 0.8583333333333333, 'macro avg': {'precision': 0.8832685132104453, 'recall': 0.8594212669864479, 'f1-score': 0.8608814001021898, 'support': 360}, 'weighted avg': {'precision': 0.881515536295635, 'recall': 0.8583333333333333, 'f1-score': 0.8589695903698924, 'support': 360}}\n"
          ]
        }
      ]
    },
    {
      "cell_type": "code",
      "source": [
        "NB_precision =  classify['macro avg']['precision'] \n",
        "NB_recall = classify['macro avg']['recall']    \n",
        "NB_f1 = classify['macro avg']['f1-score']\n",
        "NB_precision = NB_precision*100\n",
        "NB_precision = round(NB_precision,3)\n",
        "NB_recall = NB_recall*100\n",
        "NB_recall = round(NB_recall,3)\n",
        "NB_f1 = NB_f1*100\n",
        "NB_f1 = round(NB_f1,3)"
      ],
      "metadata": {
        "id": "oGWhJQwMjwqc"
      },
      "execution_count": 65,
      "outputs": []
    },
    {
      "cell_type": "markdown",
      "source": [
        "**SVM**"
      ],
      "metadata": {
        "id": "X9qUYaKBwTq3"
      }
    },
    {
      "cell_type": "code",
      "source": [
        "from sklearn.svm import SVC"
      ],
      "metadata": {
        "id": "3VHslISJwPOA"
      },
      "execution_count": 66,
      "outputs": []
    },
    {
      "cell_type": "code",
      "source": [
        "param_grid = {'C': [0.1, 1, 10, 100, 1000], \n",
        "              'gamma': [1, 0.1, 0.01, 0.001, 0.0001],\n",
        "              'kernel': ['rbf']} "
      ],
      "metadata": {
        "id": "pqGUDgLsDccf"
      },
      "execution_count": 67,
      "outputs": []
    },
    {
      "cell_type": "markdown",
      "source": [
        "APPLYING RANDOMIZED SEARCH CV FOR HYPERPARAMETER TUNING OF SVM CLASSIFIER"
      ],
      "metadata": {
        "id": "sNQuC67RC6v1"
      }
    },
    {
      "cell_type": "code",
      "source": [
        "SVM_Classifier = RandomizedSearchCV(SVC(), param_grid, cv=10, scoring='accuracy', n_iter=10, random_state=5)\n",
        "SVM_Classifier.fit(X_train, y_train)\n",
        "SVM_Classifier.cv_results_"
      ],
      "metadata": {
        "colab": {
          "base_uri": "https://localhost:8080/"
        },
        "id": "UDDd4SNUC7kC",
        "outputId": "547abf13-5220-49fe-84b3-7ed3bc316a5f"
      },
      "execution_count": 68,
      "outputs": [
        {
          "output_type": "execute_result",
          "data": {
            "text/plain": [
              "{'mean_fit_time': array([0.05635064, 0.12332172, 0.2144876 , 0.24275527, 0.22296138,\n",
              "        0.24536843, 0.0504226 , 0.24794931, 0.20565717, 0.22641654]),\n",
              " 'std_fit_time': array([0.00710942, 0.03653296, 0.05013292, 0.00528097, 0.00490674,\n",
              "        0.05395248, 0.0016792 , 0.05990965, 0.00528537, 0.00588746]),\n",
              " 'mean_score_time': array([0.01380088, 0.02321231, 0.02141724, 0.02107091, 0.01888461,\n",
              "        0.02328212, 0.01175199, 0.02247381, 0.01872723, 0.02024641]),\n",
              " 'std_score_time': array([0.00415057, 0.01018158, 0.00530879, 0.00302951, 0.00084359,\n",
              "        0.0053811 , 0.00027759, 0.0062607 , 0.00060791, 0.00027832]),\n",
              " 'param_kernel': masked_array(data=['rbf', 'rbf', 'rbf', 'rbf', 'rbf', 'rbf', 'rbf', 'rbf',\n",
              "                    'rbf', 'rbf'],\n",
              "              mask=[False, False, False, False, False, False, False, False,\n",
              "                    False, False],\n",
              "        fill_value='?',\n",
              "             dtype=object),\n",
              " 'param_gamma': masked_array(data=[0.0001, 0.001, 0.01, 1, 0.1, 0.01, 0.0001, 0.01, 0.01,\n",
              "                    1],\n",
              "              mask=[False, False, False, False, False, False, False, False,\n",
              "                    False, False],\n",
              "        fill_value='?',\n",
              "             dtype=object),\n",
              " 'param_C': masked_array(data=[100, 100, 0.1, 10, 1000, 100, 1000, 10, 1000, 1],\n",
              "              mask=[False, False, False, False, False, False, False, False,\n",
              "                    False, False],\n",
              "        fill_value='?',\n",
              "             dtype=object),\n",
              " 'params': [{'kernel': 'rbf', 'gamma': 0.0001, 'C': 100},\n",
              "  {'kernel': 'rbf', 'gamma': 0.001, 'C': 100},\n",
              "  {'kernel': 'rbf', 'gamma': 0.01, 'C': 0.1},\n",
              "  {'kernel': 'rbf', 'gamma': 1, 'C': 10},\n",
              "  {'kernel': 'rbf', 'gamma': 0.1, 'C': 1000},\n",
              "  {'kernel': 'rbf', 'gamma': 0.01, 'C': 100},\n",
              "  {'kernel': 'rbf', 'gamma': 0.0001, 'C': 1000},\n",
              "  {'kernel': 'rbf', 'gamma': 0.01, 'C': 10},\n",
              "  {'kernel': 'rbf', 'gamma': 0.01, 'C': 1000},\n",
              "  {'kernel': 'rbf', 'gamma': 1, 'C': 1}],\n",
              " 'split0_test_score': array([0.98611111, 0.99305556, 0.11111111, 0.11111111, 0.11111111,\n",
              "        0.79861111, 0.98611111, 0.79861111, 0.79861111, 0.11111111]),\n",
              " 'split1_test_score': array([0.98611111, 0.99305556, 0.11111111, 0.11111111, 0.11111111,\n",
              "        0.875     , 0.98611111, 0.875     , 0.875     , 0.11111111]),\n",
              " 'split2_test_score': array([0.98611111, 0.98611111, 0.11111111, 0.11111111, 0.11111111,\n",
              "        0.85416667, 0.98611111, 0.85416667, 0.85416667, 0.11111111]),\n",
              " 'split3_test_score': array([0.98611111, 0.98611111, 0.10416667, 0.10416667, 0.11111111,\n",
              "        0.83333333, 0.98611111, 0.83333333, 0.83333333, 0.10416667]),\n",
              " 'split4_test_score': array([0.99305556, 0.99305556, 0.10416667, 0.10416667, 0.10416667,\n",
              "        0.78472222, 0.99305556, 0.78472222, 0.78472222, 0.10416667]),\n",
              " 'split5_test_score': array([0.98611111, 0.99305556, 0.10416667, 0.10416667, 0.10416667,\n",
              "        0.77777778, 0.98611111, 0.77777778, 0.77777778, 0.10416667]),\n",
              " 'split6_test_score': array([0.98611111, 0.99305556, 0.10416667, 0.10416667, 0.11111111,\n",
              "        0.80555556, 0.98611111, 0.80555556, 0.80555556, 0.10416667]),\n",
              " 'split7_test_score': array([0.96503497, 0.97202797, 0.1048951 , 0.1048951 , 0.1048951 ,\n",
              "        0.74825175, 0.96503497, 0.74825175, 0.74825175, 0.1048951 ]),\n",
              " 'split8_test_score': array([0.99300699, 0.99300699, 0.1048951 , 0.1048951 , 0.1048951 ,\n",
              "        0.7972028 , 0.99300699, 0.7972028 , 0.7972028 , 0.1048951 ]),\n",
              " 'split9_test_score': array([1.        , 1.        , 0.11188811, 0.11188811, 0.11188811,\n",
              "        0.84615385, 1.        , 0.84615385, 0.84615385, 0.11188811]),\n",
              " 'mean_test_score': array([0.98677642, 0.9902535 , 0.10716783, 0.10716783, 0.10855672,\n",
              "        0.81207751, 0.98677642, 0.81207751, 0.81207751, 0.10716783]),\n",
              " 'std_test_score': array([0.00853497, 0.00712967, 0.00339541, 0.00339541, 0.00330277,\n",
              "        0.03713138, 0.00853497, 0.03713138, 0.03713138, 0.00339541]),\n",
              " 'rank_test_score': array([2, 1, 8, 8, 7, 4, 2, 4, 4, 8], dtype=int32)}"
            ]
          },
          "metadata": {},
          "execution_count": 68
        }
      ]
    },
    {
      "cell_type": "code",
      "source": [
        "print(SVM_Classifier.best_score_)\n",
        "print(SVM_Classifier.best_params_)"
      ],
      "metadata": {
        "colab": {
          "base_uri": "https://localhost:8080/"
        },
        "id": "VnOw2CRoDxG-",
        "outputId": "1f231a4d-0b0e-47bf-a4f3-59c0a0b6f18f"
      },
      "execution_count": 69,
      "outputs": [
        {
          "output_type": "stream",
          "name": "stdout",
          "text": [
            "0.9902534965034965\n",
            "{'kernel': 'rbf', 'gamma': 0.001, 'C': 100}\n"
          ]
        }
      ]
    },
    {
      "cell_type": "markdown",
      "source": [
        "APPLYING GRID SEARCH CV FOR HYPERPARAMETER TUNING FOR SVM"
      ],
      "metadata": {
        "id": "nNhSWN_2ZkEO"
      }
    },
    {
      "cell_type": "code",
      "source": [
        " grid = GridSearchCV(SVC(), param_grid, refit = True, verbose = 0)\n",
        "  \n",
        "# fitting the model for grid search\n",
        "grid.fit(X_train, y_train)"
      ],
      "metadata": {
        "colab": {
          "base_uri": "https://localhost:8080/",
          "height": 117
        },
        "id": "Nlp2cET-xnrf",
        "outputId": "0e462972-4876-4c3b-ee71-6c8923ce98f0"
      },
      "execution_count": 70,
      "outputs": [
        {
          "output_type": "execute_result",
          "data": {
            "text/plain": [
              "GridSearchCV(estimator=SVC(),\n",
              "             param_grid={'C': [0.1, 1, 10, 100, 1000],\n",
              "                         'gamma': [1, 0.1, 0.01, 0.001, 0.0001],\n",
              "                         'kernel': ['rbf']})"
            ],
            "text/html": [
              "<style>#sk-container-id-2 {color: black;background-color: white;}#sk-container-id-2 pre{padding: 0;}#sk-container-id-2 div.sk-toggleable {background-color: white;}#sk-container-id-2 label.sk-toggleable__label {cursor: pointer;display: block;width: 100%;margin-bottom: 0;padding: 0.3em;box-sizing: border-box;text-align: center;}#sk-container-id-2 label.sk-toggleable__label-arrow:before {content: \"▸\";float: left;margin-right: 0.25em;color: #696969;}#sk-container-id-2 label.sk-toggleable__label-arrow:hover:before {color: black;}#sk-container-id-2 div.sk-estimator:hover label.sk-toggleable__label-arrow:before {color: black;}#sk-container-id-2 div.sk-toggleable__content {max-height: 0;max-width: 0;overflow: hidden;text-align: left;background-color: #f0f8ff;}#sk-container-id-2 div.sk-toggleable__content pre {margin: 0.2em;color: black;border-radius: 0.25em;background-color: #f0f8ff;}#sk-container-id-2 input.sk-toggleable__control:checked~div.sk-toggleable__content {max-height: 200px;max-width: 100%;overflow: auto;}#sk-container-id-2 input.sk-toggleable__control:checked~label.sk-toggleable__label-arrow:before {content: \"▾\";}#sk-container-id-2 div.sk-estimator input.sk-toggleable__control:checked~label.sk-toggleable__label {background-color: #d4ebff;}#sk-container-id-2 div.sk-label input.sk-toggleable__control:checked~label.sk-toggleable__label {background-color: #d4ebff;}#sk-container-id-2 input.sk-hidden--visually {border: 0;clip: rect(1px 1px 1px 1px);clip: rect(1px, 1px, 1px, 1px);height: 1px;margin: -1px;overflow: hidden;padding: 0;position: absolute;width: 1px;}#sk-container-id-2 div.sk-estimator {font-family: monospace;background-color: #f0f8ff;border: 1px dotted black;border-radius: 0.25em;box-sizing: border-box;margin-bottom: 0.5em;}#sk-container-id-2 div.sk-estimator:hover {background-color: #d4ebff;}#sk-container-id-2 div.sk-parallel-item::after {content: \"\";width: 100%;border-bottom: 1px solid gray;flex-grow: 1;}#sk-container-id-2 div.sk-label:hover label.sk-toggleable__label {background-color: #d4ebff;}#sk-container-id-2 div.sk-serial::before {content: \"\";position: absolute;border-left: 1px solid gray;box-sizing: border-box;top: 0;bottom: 0;left: 50%;z-index: 0;}#sk-container-id-2 div.sk-serial {display: flex;flex-direction: column;align-items: center;background-color: white;padding-right: 0.2em;padding-left: 0.2em;position: relative;}#sk-container-id-2 div.sk-item {position: relative;z-index: 1;}#sk-container-id-2 div.sk-parallel {display: flex;align-items: stretch;justify-content: center;background-color: white;position: relative;}#sk-container-id-2 div.sk-item::before, #sk-container-id-2 div.sk-parallel-item::before {content: \"\";position: absolute;border-left: 1px solid gray;box-sizing: border-box;top: 0;bottom: 0;left: 50%;z-index: -1;}#sk-container-id-2 div.sk-parallel-item {display: flex;flex-direction: column;z-index: 1;position: relative;background-color: white;}#sk-container-id-2 div.sk-parallel-item:first-child::after {align-self: flex-end;width: 50%;}#sk-container-id-2 div.sk-parallel-item:last-child::after {align-self: flex-start;width: 50%;}#sk-container-id-2 div.sk-parallel-item:only-child::after {width: 0;}#sk-container-id-2 div.sk-dashed-wrapped {border: 1px dashed gray;margin: 0 0.4em 0.5em 0.4em;box-sizing: border-box;padding-bottom: 0.4em;background-color: white;}#sk-container-id-2 div.sk-label label {font-family: monospace;font-weight: bold;display: inline-block;line-height: 1.2em;}#sk-container-id-2 div.sk-label-container {text-align: center;}#sk-container-id-2 div.sk-container {/* jupyter's `normalize.less` sets `[hidden] { display: none; }` but bootstrap.min.css set `[hidden] { display: none !important; }` so we also need the `!important` here to be able to override the default hidden behavior on the sphinx rendered scikit-learn.org. See: https://github.com/scikit-learn/scikit-learn/issues/21755 */display: inline-block !important;position: relative;}#sk-container-id-2 div.sk-text-repr-fallback {display: none;}</style><div id=\"sk-container-id-2\" class=\"sk-top-container\"><div class=\"sk-text-repr-fallback\"><pre>GridSearchCV(estimator=SVC(),\n",
              "             param_grid={&#x27;C&#x27;: [0.1, 1, 10, 100, 1000],\n",
              "                         &#x27;gamma&#x27;: [1, 0.1, 0.01, 0.001, 0.0001],\n",
              "                         &#x27;kernel&#x27;: [&#x27;rbf&#x27;]})</pre><b>In a Jupyter environment, please rerun this cell to show the HTML representation or trust the notebook. <br />On GitHub, the HTML representation is unable to render, please try loading this page with nbviewer.org.</b></div><div class=\"sk-container\" hidden><div class=\"sk-item sk-dashed-wrapped\"><div class=\"sk-label-container\"><div class=\"sk-label sk-toggleable\"><input class=\"sk-toggleable__control sk-hidden--visually\" id=\"sk-estimator-id-4\" type=\"checkbox\" ><label for=\"sk-estimator-id-4\" class=\"sk-toggleable__label sk-toggleable__label-arrow\">GridSearchCV</label><div class=\"sk-toggleable__content\"><pre>GridSearchCV(estimator=SVC(),\n",
              "             param_grid={&#x27;C&#x27;: [0.1, 1, 10, 100, 1000],\n",
              "                         &#x27;gamma&#x27;: [1, 0.1, 0.01, 0.001, 0.0001],\n",
              "                         &#x27;kernel&#x27;: [&#x27;rbf&#x27;]})</pre></div></div></div><div class=\"sk-parallel\"><div class=\"sk-parallel-item\"><div class=\"sk-item\"><div class=\"sk-label-container\"><div class=\"sk-label sk-toggleable\"><input class=\"sk-toggleable__control sk-hidden--visually\" id=\"sk-estimator-id-5\" type=\"checkbox\" ><label for=\"sk-estimator-id-5\" class=\"sk-toggleable__label sk-toggleable__label-arrow\">estimator: SVC</label><div class=\"sk-toggleable__content\"><pre>SVC()</pre></div></div></div><div class=\"sk-serial\"><div class=\"sk-item\"><div class=\"sk-estimator sk-toggleable\"><input class=\"sk-toggleable__control sk-hidden--visually\" id=\"sk-estimator-id-6\" type=\"checkbox\" ><label for=\"sk-estimator-id-6\" class=\"sk-toggleable__label sk-toggleable__label-arrow\">SVC</label><div class=\"sk-toggleable__content\"><pre>SVC()</pre></div></div></div></div></div></div></div></div></div></div>"
            ]
          },
          "metadata": {},
          "execution_count": 70
        }
      ]
    },
    {
      "cell_type": "markdown",
      "source": [
        "PRINTING THE BEST PARAMETERS"
      ],
      "metadata": {
        "id": "ikYz6aGIZu9L"
      }
    },
    {
      "cell_type": "code",
      "source": [
        "print(grid.best_params_)\n",
        "print(grid.best_estimator_)"
      ],
      "metadata": {
        "colab": {
          "base_uri": "https://localhost:8080/"
        },
        "id": "QOmTuNB8xx9K",
        "outputId": "2664fca8-c15a-4f47-945a-ef96c79e9c51"
      },
      "execution_count": 71,
      "outputs": [
        {
          "output_type": "stream",
          "name": "stdout",
          "text": [
            "{'C': 1, 'gamma': 0.001, 'kernel': 'rbf'}\n",
            "SVC(C=1, gamma=0.001)\n"
          ]
        }
      ]
    },
    {
      "cell_type": "markdown",
      "source": [
        "TRAINING OUR MODEL USING THE BEST PARAMETERS WE GOT"
      ],
      "metadata": {
        "id": "1wyG1qu-ZyKE"
      }
    },
    {
      "cell_type": "code",
      "source": [
        "svm_model = SVC(kernel = 'rbf', random_state = 0,C=1, gamma=0.001)\n",
        "svm_model.fit(X_train, y_train)\n",
        "Y_pred = svm_model.predict(X_test) \n",
        "svm_acc=round(accuracy_score(y_test,Y_pred)* 100, 2)\n",
        "svm_acc_score = round(svm_model.score(X_train, y_train) * 100, 2)"
      ],
      "metadata": {
        "id": "lZw6rCcByADk"
      },
      "execution_count": 72,
      "outputs": []
    },
    {
      "cell_type": "code",
      "source": [
        "from sklearn.metrics import confusion_matrix, accuracy_score\n",
        "cm = confusion_matrix(y_test, Y_pred)\n",
        "print(cm)\n",
        "accuracy_score(y_test,Y_pred)"
      ],
      "metadata": {
        "colab": {
          "base_uri": "https://localhost:8080/"
        },
        "id": "aw3ffDGMypdn",
        "outputId": "b74bd586-4fc4-4a4d-b297-889519f872e8"
      },
      "execution_count": 73,
      "outputs": [
        {
          "output_type": "stream",
          "name": "stdout",
          "text": [
            "[[27  0  0  0  0  0  0  0  0  0]\n",
            " [ 0 35  0  0  0  0  0  0  0  0]\n",
            " [ 0  0 36  0  0  0  0  0  0  0]\n",
            " [ 0  0  0 29  0  0  0  0  0  0]\n",
            " [ 0  0  0  0 30  0  0  0  0  0]\n",
            " [ 0  0  0  0  0 39  0  0  0  1]\n",
            " [ 0  0  0  0  0  0 44  0  0  0]\n",
            " [ 0  0  0  0  0  0  0 39  0  0]\n",
            " [ 0  1  0  0  0  0  0  0 38  0]\n",
            " [ 0  0  0  0  0  1  0  0  0 40]]\n"
          ]
        },
        {
          "output_type": "execute_result",
          "data": {
            "text/plain": [
              "0.9916666666666667"
            ]
          },
          "metadata": {},
          "execution_count": 73
        }
      ]
    },
    {
      "cell_type": "markdown",
      "source": [
        "APPLYING 5 FOLD VALIDATION TO OUR SVM MODEL "
      ],
      "metadata": {
        "id": "Yke6QfjNZvuI"
      }
    },
    {
      "cell_type": "code",
      "source": [
        "SVM_result = cross_validation(svm_model,mnist.data,mnist.target,5)\n",
        "print(SVM_result)"
      ],
      "metadata": {
        "colab": {
          "base_uri": "https://localhost:8080/"
        },
        "id": "HMcGGyd0ywCN",
        "outputId": "55c57858-e467-4be1-cfa8-bf036256dc71"
      },
      "execution_count": 74,
      "outputs": [
        {
          "output_type": "stream",
          "name": "stdout",
          "text": [
            "{'Training Accuracy scores': array([0.99930411, 0.99860821, 0.99860918, 0.99860918, 0.99930459]), 'Mean Training Accuracy': 99.8887053173481, 'Validation Accuracy scores': array([0.975     , 0.95      , 0.98328691, 0.99164345, 0.96100279]), 'Mean Validation Accuracy': 97.21866295264624}\n"
          ]
        }
      ]
    },
    {
      "cell_type": "code",
      "source": [
        "model_name = \"SVM\"\n",
        "plot_result(svm_model,\n",
        "            \"Accuracy\",\n",
        "            \"Accuracy scores in 5 Folds\",\n",
        "            SVM_result[\"Training Accuracy scores\"],\n",
        "            SVM_result[\"Validation Accuracy scores\"])"
      ],
      "metadata": {
        "colab": {
          "base_uri": "https://localhost:8080/",
          "height": 421
        },
        "id": "9TqAd9G_zMV_",
        "outputId": "4fbebfd5-6ab7-4065-be2d-5d20337fa93f"
      },
      "execution_count": 75,
      "outputs": [
        {
          "output_type": "display_data",
          "data": {
            "text/plain": [
              "<Figure size 864x432 with 1 Axes>"
            ],
            "image/png": "[encoded data removed]"
          },
          "metadata": {
            "needs_background": "light"
          }
        }
      ]
    },
    {
      "cell_type": "code",
      "source": [
        "k_fold_SVM_acc = SVM_result[\"Mean Validation Accuracy\"]"
      ],
      "metadata": {
        "id": "bmU3Qc8XkCk5"
      },
      "execution_count": 76,
      "outputs": []
    },
    {
      "cell_type": "markdown",
      "source": [
        "CONFUSION MATRIX FOR SVM MODEL"
      ],
      "metadata": {
        "id": "Vx7MnGxHZ03y"
      }
    },
    {
      "cell_type": "code",
      "source": [
        "from sklearn.metrics import confusion_matrix, accuracy_score\n",
        "cm = confusion_matrix(y_test, Y_pred)\n",
        "print('for SVM, Confusion Matrix:\\n',cm)\n",
        "classify=classification_report(y_test, Y_pred,output_dict=True)\n",
        "print('for SVM, Classification Report\\n',classify)"
      ],
      "metadata": {
        "colab": {
          "base_uri": "https://localhost:8080/"
        },
        "id": "S-YCMpS5kDsz",
        "outputId": "45d10a7f-f79a-47be-efab-c242cdc328c9"
      },
      "execution_count": 77,
      "outputs": [
        {
          "output_type": "stream",
          "name": "stdout",
          "text": [
            "for SVM, Confusion Matrix:\n",
            " [[27  0  0  0  0  0  0  0  0  0]\n",
            " [ 0 35  0  0  0  0  0  0  0  0]\n",
            " [ 0  0 36  0  0  0  0  0  0  0]\n",
            " [ 0  0  0 29  0  0  0  0  0  0]\n",
            " [ 0  0  0  0 30  0  0  0  0  0]\n",
            " [ 0  0  0  0  0 39  0  0  0  1]\n",
            " [ 0  0  0  0  0  0 44  0  0  0]\n",
            " [ 0  0  0  0  0  0  0 39  0  0]\n",
            " [ 0  1  0  0  0  0  0  0 38  0]\n",
            " [ 0  0  0  0  0  1  0  0  0 40]]\n",
            "for SVM, Classification Report\n",
            " {'0': {'precision': 1.0, 'recall': 1.0, 'f1-score': 1.0, 'support': 27}, '1': {'precision': 0.9722222222222222, 'recall': 1.0, 'f1-score': 0.9859154929577464, 'support': 35}, '2': {'precision': 1.0, 'recall': 1.0, 'f1-score': 1.0, 'support': 36}, '3': {'precision': 1.0, 'recall': 1.0, 'f1-score': 1.0, 'support': 29}, '4': {'precision': 1.0, 'recall': 1.0, 'f1-score': 1.0, 'support': 30}, '5': {'precision': 0.975, 'recall': 0.975, 'f1-score': 0.975, 'support': 40}, '6': {'precision': 1.0, 'recall': 1.0, 'f1-score': 1.0, 'support': 44}, '7': {'precision': 1.0, 'recall': 1.0, 'f1-score': 1.0, 'support': 39}, '8': {'precision': 1.0, 'recall': 0.9743589743589743, 'f1-score': 0.9870129870129869, 'support': 39}, '9': {'precision': 0.975609756097561, 'recall': 0.975609756097561, 'f1-score': 0.975609756097561, 'support': 41}, 'accuracy': 0.9916666666666667, 'macro avg': {'precision': 0.9922831978319785, 'recall': 0.9924968730456534, 'f1-score': 0.9923538236068297, 'support': 360}, 'weighted avg': {'precision': 0.9917438271604938, 'recall': 0.9916666666666667, 'f1-score': 0.9916681909639657, 'support': 360}}\n"
          ]
        }
      ]
    },
    {
      "cell_type": "code",
      "source": [
        "SVM_precision =  classify['macro avg']['precision'] \n",
        "SVM_recall = classify['macro avg']['recall']    \n",
        "SVM_f1 = classify['macro avg']['f1-score']\n",
        "SVM_precision = SVM_precision*100\n",
        "SVM_precision = round(SVM_precision,3)\n",
        "SVM_recall = SVM_recall*100\n",
        "SVM_recall = round(SVM_recall,3)\n",
        "SVM_f1 = SVM_f1*100\n",
        "SVM_f1 = round(SVM_f1,3)"
      ],
      "metadata": {
        "id": "_f824mhHkDwL"
      },
      "execution_count": 78,
      "outputs": []
    },
    {
      "cell_type": "markdown",
      "source": [
        "**ANN**"
      ],
      "metadata": {
        "id": "qaLHSNpuza3Z"
      }
    },
    {
      "cell_type": "code",
      "source": [
        "import tensorflow as tf\n",
        "import keras\n",
        "from tensorflow.python.keras.layers import Input, Dense\n",
        "from tensorflow.keras.utils import to_categorical"
      ],
      "metadata": {
        "id": "bD1vsWpTze0h"
      },
      "execution_count": 79,
      "outputs": []
    },
    {
      "cell_type": "code",
      "source": [
        "from tensorflow.python.keras.models import Sequential"
      ],
      "metadata": {
        "id": "7AYhdlH5z8QU"
      },
      "execution_count": 80,
      "outputs": []
    },
    {
      "cell_type": "markdown",
      "source": [
        "CREATE MODEL FUNCTION FOR ANN MODEL GENERATION"
      ],
      "metadata": {
        "id": "BAoVGBo1Z6Qo"
      }
    },
    {
      "cell_type": "code",
      "source": [
        "def create_model(optimizer=\"adam\"):\n",
        "    # create model\n",
        "    model = Sequential()\n",
        "    model.add(Dense(20, activation='relu'))\n",
        "    \n",
        "    model.add(Dense(40, activation='sigmoid'))\n",
        "    model.add(Dense(60, activation='relu'))\n",
        "\n",
        "    \n",
        "    model.add(Dense(10, activation='softmax')) \n",
        "    model.compile(loss='categorical_crossentropy', optimizer=optimizer,metrics=[\"accuracy\"])\n",
        "    return model\n",
        "model = create_model() "
      ],
      "metadata": {
        "id": "25337qWbz_wm"
      },
      "execution_count": 81,
      "outputs": []
    },
    {
      "cell_type": "markdown",
      "source": [
        "CONVERTING MULTI CLASS OUTPUT TO CATEGORICAL DATA FOR USING IN ANN MODEL"
      ],
      "metadata": {
        "id": "r4PHRu2wZ-0x"
      }
    },
    {
      "cell_type": "code",
      "source": [
        "y1 = to_categorical(y_train)\n",
        "y2 = to_categorical(y_test)"
      ],
      "metadata": {
        "id": "67mWjQQJTYwQ"
      },
      "execution_count": 82,
      "outputs": []
    },
    {
      "cell_type": "code",
      "source": [
        "from tensorflow.keras.wrappers.scikit_learn import KerasClassifier\n",
        "classifier = KerasClassifier(build_fn = create_model)\n",
        "parameters = dict(batch_size= [16, 32, 64, 128],\n",
        "              epochs= [100, 150],\n",
        "              optimizer= ['adam'])"
      ],
      "metadata": {
        "id": "AoUualg5ESlr"
      },
      "execution_count": 83,
      "outputs": []
    },
    {
      "cell_type": "markdown",
      "source": [
        "APPLYING RANDOMIZEDSEARCH CV FOR HYPERPARAMETER TUNING IN ANN MODEL"
      ],
      "metadata": {
        "id": "IeCDaGN2EXEd"
      }
    },
    {
      "cell_type": "code",
      "source": [
        "ANN_Classifier = RandomizedSearchCV(classifier, parameters, cv=5, scoring='accuracy', n_iter=10, random_state=5)\n",
        "ANN_Classifier.fit(X_train, y_train,verbose = 0)\n",
        "ANN_Classifier.cv_results_"
      ],
      "metadata": {
        "colab": {
          "base_uri": "https://localhost:8080/"
        },
        "id": "bKWnKLmzEXOJ",
        "outputId": "230017e6-735e-4694-b898-9ad00dcbc69c"
      },
      "execution_count": 89,
      "outputs": [
        {
          "output_type": "execute_result",
          "data": {
            "text/plain": [
              "{'mean_fit_time': array([27.53256831, 20.35191913,  8.34985981, 12.99457107,  5.26507235,\n",
              "         8.06311893,  3.4672019 ,  5.38039069]),\n",
              " 'std_fit_time': array([11.44710246,  1.22466556,  1.6642567 ,  4.16798047,  0.60925076,\n",
              "         2.39287501,  1.36170763,  0.86667244]),\n",
              " 'mean_score_time': array([0.20540376, 0.1400074 , 0.13860173, 0.14971986, 0.14797497,\n",
              "        0.16834087, 0.12793984, 0.15323033]),\n",
              " 'std_score_time': array([0.11159989, 0.00827239, 0.02378198, 0.02024325, 0.00395854,\n",
              "        0.04308032, 0.01464293, 0.00972421]),\n",
              " 'param_optimizer': masked_array(data=['adam', 'adam', 'adam', 'adam', 'adam', 'adam', 'adam',\n",
              "                    'adam'],\n",
              "              mask=[False, False, False, False, False, False, False, False],\n",
              "        fill_value='?',\n",
              "             dtype=object),\n",
              " 'param_epochs': masked_array(data=[100, 150, 100, 150, 100, 150, 100, 150],\n",
              "              mask=[False, False, False, False, False, False, False, False],\n",
              "        fill_value='?',\n",
              "             dtype=object),\n",
              " 'param_batch_size': masked_array(data=[16, 16, 32, 32, 64, 64, 128, 128],\n",
              "              mask=[False, False, False, False, False, False, False, False],\n",
              "        fill_value='?',\n",
              "             dtype=object),\n",
              " 'params': [{'optimizer': 'adam', 'epochs': 100, 'batch_size': 16},\n",
              "  {'optimizer': 'adam', 'epochs': 150, 'batch_size': 16},\n",
              "  {'optimizer': 'adam', 'epochs': 100, 'batch_size': 32},\n",
              "  {'optimizer': 'adam', 'epochs': 150, 'batch_size': 32},\n",
              "  {'optimizer': 'adam', 'epochs': 100, 'batch_size': 64},\n",
              "  {'optimizer': 'adam', 'epochs': 150, 'batch_size': 64},\n",
              "  {'optimizer': 'adam', 'epochs': 100, 'batch_size': 128},\n",
              "  {'optimizer': 'adam', 'epochs': 150, 'batch_size': 128}],\n",
              " 'split0_test_score': array([0.95486111, 0.97222222, 0.96527778, 0.95833333, 0.94791667,\n",
              "        0.96527778, 0.96875   , 0.94791667]),\n",
              " 'split1_test_score': array([0.97222222, 0.97569444, 0.98263889, 0.96875   , 0.95486111,\n",
              "        0.97222222, 0.95486111, 0.96527778]),\n",
              " 'split2_test_score': array([0.96864111, 0.97560976, 0.97909408, 0.95470383, 0.96864111,\n",
              "        0.96864111, 0.96167247, 0.96515679]),\n",
              " 'split3_test_score': array([0.96167247, 0.95818815, 0.95470383, 0.97909408, 0.95818815,\n",
              "        0.96167247, 0.97212544, 0.97212544]),\n",
              " 'split4_test_score': array([0.96864111, 0.98954704, 0.97212544, 0.97909408, 0.97560976,\n",
              "        0.96515679, 0.97909408, 0.96515679]),\n",
              " 'mean_test_score': array([0.96520761, 0.97425232, 0.970768  , 0.96799506, 0.96104336,\n",
              "        0.96659408, 0.96730062, 0.96312669]),\n",
              " 'std_test_score': array([0.0062021 , 0.0100003 , 0.01000284, 0.01016811, 0.00988522,\n",
              "        0.00357455, 0.00837714, 0.00806464]),\n",
              " 'rank_test_score': array([6, 1, 2, 3, 8, 5, 4, 7], dtype=int32)}"
            ]
          },
          "metadata": {},
          "execution_count": 89
        }
      ]
    },
    {
      "cell_type": "code",
      "source": [
        "print(ANN_Classifier.best_score_)\n",
        "print(ANN_Classifier.best_params_)"
      ],
      "metadata": {
        "colab": {
          "base_uri": "https://localhost:8080/"
        },
        "id": "Jh3laz4oEyaa",
        "outputId": "f9280c1e-bd93-4df1-f527-253e00e1c323"
      },
      "execution_count": 90,
      "outputs": [
        {
          "output_type": "stream",
          "name": "stdout",
          "text": [
            "0.9742523228803716\n",
            "{'optimizer': 'adam', 'epochs': 150, 'batch_size': 16}\n"
          ]
        }
      ]
    },
    {
      "cell_type": "markdown",
      "source": [
        "APPLYING GRID SEARCH CV FOR HYPERPARAMETER TUNING IN ANN MODEL"
      ],
      "metadata": {
        "id": "71qJc6qqaGmk"
      }
    },
    {
      "cell_type": "code",
      "source": [
        "grid_search = GridSearchCV(estimator = classifier,\n",
        "                           param_grid = parameters,\n",
        "                           scoring = 'neg_mean_absolute_error',\n",
        "                           cv = 5)\n",
        "grid = grid_search.fit(X_train, y1,verbose=0)"
      ],
      "metadata": {
        "id": "k0Qgkiw8cEOQ"
      },
      "execution_count": null,
      "outputs": []
    },
    {
      "cell_type": "code",
      "source": [
        "best_parameters = grid_search.best_params_\n",
        "best_score = grid_search.best_score_\n",
        "\n",
        "print(\"Best Parameters: \" + str(best_parameters))"
      ],
      "metadata": {
        "colab": {
          "base_uri": "https://localhost:8080/"
        },
        "id": "oXrJcPTVcH34",
        "outputId": "2fde57cc-65cb-4080-e08c-4c067b5e1b28"
      },
      "execution_count": null,
      "outputs": [
        {
          "output_type": "stream",
          "name": "stdout",
          "text": [
            "Best Parameters: {'batch_size': 16, 'epochs': 100, 'optimizer': 'adam'}\n"
          ]
        }
      ]
    },
    {
      "cell_type": "markdown",
      "source": [
        "USING THE BEST PARAMETERS FOR TRAINING OUR ANN MODEL"
      ],
      "metadata": {
        "id": "GjZQPEJNaOrQ"
      }
    },
    {
      "cell_type": "code",
      "source": [
        "train=model.fit(X_train, y1, epochs=100, batch_size=16,verbose=0,validation_data=(X_test,y2))"
      ],
      "metadata": {
        "id": "Q9qcNPyz0CVO"
      },
      "execution_count": null,
      "outputs": []
    },
    {
      "cell_type": "markdown",
      "source": [
        "PLOTTING THE LOSS FUNCTION DURING TRAINING OF THE ANN MODEL"
      ],
      "metadata": {
        "id": "nagqrCTzaTSy"
      }
    },
    {
      "cell_type": "code",
      "source": [
        "import matplotlib.pyplot as plt\n",
        "plt.plot(train.history['loss'], label='train')\n",
        "plt.plot(train.history['val_loss'], label='test')\n",
        "plt.title('Model Loss')\n",
        "plt.xlabel('epochs')\n",
        "plt.ylabel('loss values')\n",
        "plt.legend(loc='upper right')\n",
        "plt.show()"
      ],
      "metadata": {
        "colab": {
          "base_uri": "https://localhost:8080/",
          "height": 295
        },
        "id": "QqZPPU190UXq",
        "outputId": "6098ebf2-ca78-466a-f01d-3db742441505"
      },
      "execution_count": null,
      "outputs": [
        {
          "output_type": "display_data",
          "data": {
            "text/plain": [
              "<Figure size 432x288 with 1 Axes>"
            ],
            "image/png": "[encoded data removed]"
          },
          "metadata": {
            "needs_background": "light"
          }
        }
      ]
    },
    {
      "cell_type": "markdown",
      "source": [
        "PLOTTING ACCURACY FUNCTION DURING TRAINING OF ANN MODEL"
      ],
      "metadata": {
        "id": "LC1QJr7NaZ5u"
      }
    },
    {
      "cell_type": "code",
      "source": [
        "plt.subplot(212)\n",
        "plt.title('Accuracy')\n",
        "plt.plot(train.history['accuracy'], label='train')\n",
        "plt.plot(train.history['val_accuracy'], label='test')\n",
        "plt.legend()\n",
        "plt.show()"
      ],
      "metadata": {
        "colab": {
          "base_uri": "https://localhost:8080/",
          "height": 163
        },
        "id": "WyW9m8s2upCy",
        "outputId": "6e524c92-2852-4aae-8f77-586d73e37d04"
      },
      "execution_count": null,
      "outputs": [
        {
          "output_type": "display_data",
          "data": {
            "text/plain": [
              "<Figure size 432x288 with 1 Axes>"
            ],
            "image/png": "[encoded data removed]"
          },
          "metadata": {
            "needs_background": "light"
          }
        }
      ]
    },
    {
      "cell_type": "code",
      "source": [
        "train_acc = model.evaluate(X_train,y1, verbose=0)\n",
        "test_acc = model.evaluate(X_test,y2, verbose=0)\n",
        "Y_pred = model.predict(X_test)\n",
        "ANN_train_acc = train_acc[1]*100\n",
        "ANN_test_acc = test_acc[1]*100\n",
        "ANN_test_acc = round(ANN_test_acc,3)\n",
        "ANN_test_acc"
      ],
      "metadata": {
        "colab": {
          "base_uri": "https://localhost:8080/"
        },
        "id": "3iIJPal2QYGm",
        "outputId": "e5b655fe-5a1e-4814-a70b-42c048e59c59"
      },
      "execution_count": null,
      "outputs": [
        {
          "output_type": "execute_result",
          "data": {
            "text/plain": [
              "97.5"
            ]
          },
          "metadata": {},
          "execution_count": 328
        }
      ]
    },
    {
      "cell_type": "markdown",
      "source": [
        "CONFUSION MATRIX FOR ANN MODEL"
      ],
      "metadata": {
        "id": "xFG92gw5ahQi"
      }
    },
    {
      "cell_type": "code",
      "source": [
        "from sklearn.metrics import confusion_matrix, accuracy_score\n",
        "y3=np.argmax(Y_pred, axis=1)\n",
        "y4=np.argmax(y2, axis=1)\n",
        "cm = confusion_matrix(y4, y3)\n",
        "print('for ANN, Confusion Matrix:\\n',cm)\n",
        "classify=classification_report(y4, y3,output_dict=True)\n",
        "print('for ANN, Classification Report\\n',classify)"
      ],
      "metadata": {
        "colab": {
          "base_uri": "https://localhost:8080/"
        },
        "id": "Of1D8vCxkr7P",
        "outputId": "5c9251b5-325f-4d24-c529-878911c59c7e"
      },
      "execution_count": null,
      "outputs": [
        {
          "output_type": "stream",
          "name": "stdout",
          "text": [
            "for ANN, Confusion Matrix:\n",
            " [[27  0  0  0  0  0  0  0  0  0]\n",
            " [ 1 33  0  0  0  0  0  0  0  1]\n",
            " [ 0  0 36  0  0  0  0  0  0  0]\n",
            " [ 0  0  0 28  0  1  0  0  0  0]\n",
            " [ 0  0  0  0 30  0  0  0  0  0]\n",
            " [ 0  0  0  0  0 39  0  0  0  1]\n",
            " [ 0  1  0  0  0  0 43  0  0  0]\n",
            " [ 0  0  0  0  1  0  0 38  0  0]\n",
            " [ 0  1  0  0  0  0  0  0 38  0]\n",
            " [ 0  0  0  0  0  1  0  1  0 39]]\n",
            "for ANN, Classification Report\n",
            " {'0': {'precision': 0.9642857142857143, 'recall': 1.0, 'f1-score': 0.9818181818181818, 'support': 27}, '1': {'precision': 0.9428571428571428, 'recall': 0.9428571428571428, 'f1-score': 0.9428571428571428, 'support': 35}, '2': {'precision': 1.0, 'recall': 1.0, 'f1-score': 1.0, 'support': 36}, '3': {'precision': 1.0, 'recall': 0.9655172413793104, 'f1-score': 0.9824561403508771, 'support': 29}, '4': {'precision': 0.967741935483871, 'recall': 1.0, 'f1-score': 0.9836065573770492, 'support': 30}, '5': {'precision': 0.9512195121951219, 'recall': 0.975, 'f1-score': 0.9629629629629629, 'support': 40}, '6': {'precision': 1.0, 'recall': 0.9772727272727273, 'f1-score': 0.9885057471264368, 'support': 44}, '7': {'precision': 0.9743589743589743, 'recall': 0.9743589743589743, 'f1-score': 0.9743589743589743, 'support': 39}, '8': {'precision': 1.0, 'recall': 0.9743589743589743, 'f1-score': 0.9870129870129869, 'support': 39}, '9': {'precision': 0.9512195121951219, 'recall': 0.9512195121951219, 'f1-score': 0.9512195121951219, 'support': 41}, 'accuracy': 0.975, 'macro avg': {'precision': 0.9751682791375946, 'recall': 0.9760584572422252, 'f1-score': 0.9754798206059734, 'support': 360}, 'weighted avg': {'precision': 0.9753243134389868, 'recall': 0.975, 'f1-score': 0.9750410932949058, 'support': 360}}\n"
          ]
        }
      ]
    },
    {
      "cell_type": "code",
      "source": [
        "ANN_precision =  classify['macro avg']['precision'] \n",
        "ANN_recall = classify['macro avg']['recall']    \n",
        "ANN_f1 = classify['macro avg']['f1-score']\n",
        "ANN_precision = ANN_precision*100\n",
        "ANN_precision = round(ANN_precision,3)\n",
        "ANN_recall = ANN_recall*100\n",
        "ANN_recall = round(ANN_recall,3)\n",
        "ANN_f1 = ANN_f1*100\n",
        "ANN_f1 = round(ANN_f1,3)"
      ],
      "metadata": {
        "id": "E5iUahODktmr"
      },
      "execution_count": null,
      "outputs": []
    },
    {
      "cell_type": "markdown",
      "source": [
        "**COMPARISON OF MODELS**"
      ],
      "metadata": {
        "id": "9Olu3o7ghgeY"
      }
    },
    {
      "cell_type": "markdown",
      "source": [
        "*BASED ON ACCURACY*"
      ],
      "metadata": {
        "id": "L-NK4iJFa2x4"
      }
    },
    {
      "cell_type": "code",
      "source": [
        "best = pd.DataFrame({\n",
        "    'Model': [ 'KNN','Random Forest','Naive Bayes','Decision Tree','SVM','ANN'],\n",
        "    'Score': [ knn_acc_score,random_forest_acc_score,gaussian_acc_score,dt_acc_score,svm_acc_score,ANN_train_acc],\n",
        "    \"Acc_score\":[knn_acc,rf_acc,nb_acc,dt_acc,svm_acc,ANN_test_acc]\n",
        " })\n",
        "best_df = best.sort_values(by='Acc_score', ascending=False)\n",
        "\n",
        "best_df = best_df.reset_index(drop=True)\n",
        "\n",
        "best_df.head(6)"
      ],
      "metadata": {
        "colab": {
          "base_uri": "https://localhost:8080/",
          "height": 237
        },
        "id": "Vd3qhlTqY3Av",
        "outputId": "3cd6ff6a-8884-4c74-bdce-d0f97203df90"
      },
      "execution_count": null,
      "outputs": [
        {
          "output_type": "execute_result",
          "data": {
            "text/plain": [
              "           Model   Score  Acc_score\n",
              "0            SVM   99.93      99.17\n",
              "1            KNN   99.10      98.33\n",
              "2            ANN  100.00      97.50\n",
              "3  Random Forest  100.00      95.00\n",
              "4    Naive Bayes   88.94      85.83\n",
              "5  Decision Tree  100.00      85.00"
            ],
            "text/html": [
              "\n",
              "  <div id=\"df-2222b6e3-5332-4e71-84b4-a80ba1cf98e3\">\n",
              "    <div class=\"colab-df-container\">\n",
              "      <div>\n",
              "<style scoped>\n",
              "    .dataframe tbody tr th:only-of-type {\n",
              "        vertical-align: middle;\n",
              "    }\n",
              "\n",
              "    .dataframe tbody tr th {\n",
              "        vertical-align: top;\n",
              "    }\n",
              "\n",
              "    .dataframe thead th {\n",
              "        text-align: right;\n",
              "    }\n",
              "</style>\n",
              "<table border=\"1\" class=\"dataframe\">\n",
              "  <thead>\n",
              "    <tr style=\"text-align: right;\">\n",
              "      <th></th>\n",
              "      <th>Model</th>\n",
              "      <th>Score</th>\n",
              "      <th>Acc_score</th>\n",
              "    </tr>\n",
              "  </thead>\n",
              "  <tbody>\n",
              "    <tr>\n",
              "      <th>0</th>\n",
              "      <td>SVM</td>\n",
              "      <td>99.93</td>\n",
              "      <td>99.17</td>\n",
              "    </tr>\n",
              "    <tr>\n",
              "      <th>1</th>\n",
              "      <td>KNN</td>\n",
              "      <td>99.10</td>\n",
              "      <td>98.33</td>\n",
              "    </tr>\n",
              "    <tr>\n",
              "      <th>2</th>\n",
              "      <td>ANN</td>\n",
              "      <td>100.00</td>\n",
              "      <td>97.50</td>\n",
              "    </tr>\n",
              "    <tr>\n",
              "      <th>3</th>\n",
              "      <td>Random Forest</td>\n",
              "      <td>100.00</td>\n",
              "      <td>95.00</td>\n",
              "    </tr>\n",
              "    <tr>\n",
              "      <th>4</th>\n",
              "      <td>Naive Bayes</td>\n",
              "      <td>88.94</td>\n",
              "      <td>85.83</td>\n",
              "    </tr>\n",
              "    <tr>\n",
              "      <th>5</th>\n",
              "      <td>Decision Tree</td>\n",
              "      <td>100.00</td>\n",
              "      <td>85.00</td>\n",
              "    </tr>\n",
              "  </tbody>\n",
              "</table>\n",
              "</div>\n",
              "      <button class=\"colab-df-convert\" onclick=\"convertToInteractive('df-2222b6e3-5332-4e71-84b4-a80ba1cf98e3')\"\n",
              "              title=\"Convert this dataframe to an interactive table.\"\n",
              "              style=\"display:none;\">\n",
              "        \n",
              "  <svg xmlns=\"http://www.w3.org/2000/svg\" height=\"24px\"viewBox=\"0 0 24 24\"\n",
              "       width=\"24px\">\n",
              "    <path d=\"M0 0h24v24H0V0z\" fill=\"none\"/>\n",
              "    <path d=\"M18.56 5.44l.94 2.06.94-2.06 2.06-.94-2.06-.94-.94-2.06-.94 2.06-2.06.94zm-11 1L8.5 8.5l.94-2.06 2.06-.94-2.06-.94L8.5 2.5l-.94 2.06-2.06.94zm10 10l.94 2.06.94-2.06 2.06-.94-2.06-.94-.94-2.06-.94 2.06-2.06.94z\"/><path d=\"M17.41 7.96l-1.37-1.37c-.4-.4-.92-.59-1.43-.59-.52 0-1.04.2-1.43.59L10.3 9.45l-7.72 7.72c-.78.78-.78 2.05 0 2.83L4 21.41c.39.39.9.59 1.41.59.51 0 1.02-.2 1.41-.59l7.78-7.78 2.81-2.81c.8-.78.8-2.07 0-2.86zM5.41 20L4 18.59l7.72-7.72 1.47 1.35L5.41 20z\"/>\n",
              "  </svg>\n",
              "      </button>\n",
              "      \n",
              "  <style>\n",
              "    .colab-df-container {\n",
              "      display:flex;\n",
              "      flex-wrap:wrap;\n",
              "      gap: 12px;\n",
              "    }\n",
              "\n",
              "    .colab-df-convert {\n",
              "      background-color: #E8F0FE;\n",
              "      border: none;\n",
              "      border-radius: 50%;\n",
              "      cursor: pointer;\n",
              "      display: none;\n",
              "      fill: #1967D2;\n",
              "      height: 32px;\n",
              "      padding: 0 0 0 0;\n",
              "      width: 32px;\n",
              "    }\n",
              "\n",
              "    .colab-df-convert:hover {\n",
              "      background-color: #E2EBFA;\n",
              "      box-shadow: 0px 1px 2px rgba(60, 64, 67, 0.3), 0px 1px 3px 1px rgba(60, 64, 67, 0.15);\n",
              "      fill: #174EA6;\n",
              "    }\n",
              "\n",
              "    [theme=dark] .colab-df-convert {\n",
              "      background-color: #3B4455;\n",
              "      fill: #D2E3FC;\n",
              "    }\n",
              "\n",
              "    [theme=dark] .colab-df-convert:hover {\n",
              "      background-color: #434B5C;\n",
              "      box-shadow: 0px 1px 3px 1px rgba(0, 0, 0, 0.15);\n",
              "      filter: drop-shadow(0px 1px 2px rgba(0, 0, 0, 0.3));\n",
              "      fill: #FFFFFF;\n",
              "    }\n",
              "  </style>\n",
              "\n",
              "      <script>\n",
              "        const buttonEl =\n",
              "          document.querySelector('#df-2222b6e3-5332-4e71-84b4-a80ba1cf98e3 button.colab-df-convert');\n",
              "        buttonEl.style.display =\n",
              "          google.colab.kernel.accessAllowed ? 'block' : 'none';\n",
              "\n",
              "        async function convertToInteractive(key) {\n",
              "          const element = document.querySelector('#df-2222b6e3-5332-4e71-84b4-a80ba1cf98e3');\n",
              "          const dataTable =\n",
              "            await google.colab.kernel.invokeFunction('convertToInteractive',\n",
              "                                                     [key], {});\n",
              "          if (!dataTable) return;\n",
              "\n",
              "          const docLinkHtml = 'Like what you see? Visit the ' +\n",
              "            '<a target=\"_blank\" href=https://colab.research.google.com/notebooks/data_table.ipynb>data table notebook</a>'\n",
              "            + ' to learn more about interactive tables.';\n",
              "          element.innerHTML = '';\n",
              "          dataTable['output_type'] = 'display_data';\n",
              "          await google.colab.output.renderOutput(dataTable, element);\n",
              "          const docLink = document.createElement('div');\n",
              "          docLink.innerHTML = docLinkHtml;\n",
              "          element.appendChild(docLink);\n",
              "        }\n",
              "      </script>\n",
              "    </div>\n",
              "  </div>\n",
              "  "
            ]
          },
          "metadata": {},
          "execution_count": 331
        }
      ]
    },
    {
      "cell_type": "code",
      "source": [
        "plt.subplots(figsize=(12,4))\n",
        "ax=sns.barplot(x='Model',y=\"Acc_score\",data=best_df)\n",
        "labels = (best_df[\"Acc_score\"])\n",
        "for i,j in enumerate(labels):\n",
        " ax.text(i,j+1,str(j))"
      ],
      "metadata": {
        "colab": {
          "base_uri": "https://localhost:8080/",
          "height": 279
        },
        "id": "ljUCThycZ_bq",
        "outputId": "0b870928-c6d2-4555-bb5e-81be9e99d65b"
      },
      "execution_count": null,
      "outputs": [
        {
          "output_type": "display_data",
          "data": {
            "text/plain": [
              "<Figure size 864x288 with 1 Axes>"
            ],
            "image/png": "[encoded data removed]"
          },
          "metadata": {
            "needs_background": "light"
          }
        }
      ]
    },
    {
      "cell_type": "markdown",
      "source": [
        "*This Tells us that Based on Accuracy : SVM is the best performing model and Decision Tree is the worst on the MNIST Dataset.*"
      ],
      "metadata": {
        "id": "XTzOCjUmiaYX"
      }
    },
    {
      "cell_type": "markdown",
      "source": [
        "*BASED ON PRECISION*"
      ],
      "metadata": {
        "id": "EFOa12hDbCIr"
      }
    },
    {
      "cell_type": "code",
      "source": [
        "best = pd.DataFrame({\n",
        "    'Model': [ 'KNN','Random Forest','Naive Bayes','Decision Tree','SVM','ANN'],\n",
        "    \"Precision\":[KNN_precision,RF_precision,NB_precision,DT_precision,SVM_precision,ANN_precision]\n",
        " })\n",
        "best_df = best.sort_values(by='Precision', ascending=False)\n",
        "\n",
        "best_df = best_df.reset_index(drop=True)\n",
        "\n",
        "best_df.head(6)"
      ],
      "metadata": {
        "colab": {
          "base_uri": "https://localhost:8080/",
          "height": 237
        },
        "id": "cCNTxxSxla4K",
        "outputId": "d5e87d88-5fb1-4afb-9ce1-61e60b80cfee"
      },
      "execution_count": null,
      "outputs": [
        {
          "output_type": "execute_result",
          "data": {
            "text/plain": [
              "           Model  Precision\n",
              "0            SVM     99.228\n",
              "1            KNN     98.325\n",
              "2            ANN     97.517\n",
              "3  Random Forest     96.700\n",
              "4    Naive Bayes     88.327\n",
              "5  Decision Tree     85.000"
            ],
            "text/html": [
              "\n",
              "  <div id=\"df-aeee559e-bc27-4c3a-8dcd-382e59d5b183\">\n",
              "    <div class=\"colab-df-container\">\n",
              "      <div>\n",
              "<style scoped>\n",
              "    .dataframe tbody tr th:only-of-type {\n",
              "        vertical-align: middle;\n",
              "    }\n",
              "\n",
              "    .dataframe tbody tr th {\n",
              "        vertical-align: top;\n",
              "    }\n",
              "\n",
              "    .dataframe thead th {\n",
              "        text-align: right;\n",
              "    }\n",
              "</style>\n",
              "<table border=\"1\" class=\"dataframe\">\n",
              "  <thead>\n",
              "    <tr style=\"text-align: right;\">\n",
              "      <th></th>\n",
              "      <th>Model</th>\n",
              "      <th>Precision</th>\n",
              "    </tr>\n",
              "  </thead>\n",
              "  <tbody>\n",
              "    <tr>\n",
              "      <th>0</th>\n",
              "      <td>SVM</td>\n",
              "      <td>99.228</td>\n",
              "    </tr>\n",
              "    <tr>\n",
              "      <th>1</th>\n",
              "      <td>KNN</td>\n",
              "      <td>98.325</td>\n",
              "    </tr>\n",
              "    <tr>\n",
              "      <th>2</th>\n",
              "      <td>ANN</td>\n",
              "      <td>97.517</td>\n",
              "    </tr>\n",
              "    <tr>\n",
              "      <th>3</th>\n",
              "      <td>Random Forest</td>\n",
              "      <td>96.700</td>\n",
              "    </tr>\n",
              "    <tr>\n",
              "      <th>4</th>\n",
              "      <td>Naive Bayes</td>\n",
              "      <td>88.327</td>\n",
              "    </tr>\n",
              "    <tr>\n",
              "      <th>5</th>\n",
              "      <td>Decision Tree</td>\n",
              "      <td>85.000</td>\n",
              "    </tr>\n",
              "  </tbody>\n",
              "</table>\n",
              "</div>\n",
              "      <button class=\"colab-df-convert\" onclick=\"convertToInteractive('df-aeee559e-bc27-4c3a-8dcd-382e59d5b183')\"\n",
              "              title=\"Convert this dataframe to an interactive table.\"\n",
              "              style=\"display:none;\">\n",
              "        \n",
              "  <svg xmlns=\"http://www.w3.org/2000/svg\" height=\"24px\"viewBox=\"0 0 24 24\"\n",
              "       width=\"24px\">\n",
              "    <path d=\"M0 0h24v24H0V0z\" fill=\"none\"/>\n",
              "    <path d=\"M18.56 5.44l.94 2.06.94-2.06 2.06-.94-2.06-.94-.94-2.06-.94 2.06-2.06.94zm-11 1L8.5 8.5l.94-2.06 2.06-.94-2.06-.94L8.5 2.5l-.94 2.06-2.06.94zm10 10l.94 2.06.94-2.06 2.06-.94-2.06-.94-.94-2.06-.94 2.06-2.06.94z\"/><path d=\"M17.41 7.96l-1.37-1.37c-.4-.4-.92-.59-1.43-.59-.52 0-1.04.2-1.43.59L10.3 9.45l-7.72 7.72c-.78.78-.78 2.05 0 2.83L4 21.41c.39.39.9.59 1.41.59.51 0 1.02-.2 1.41-.59l7.78-7.78 2.81-2.81c.8-.78.8-2.07 0-2.86zM5.41 20L4 18.59l7.72-7.72 1.47 1.35L5.41 20z\"/>\n",
              "  </svg>\n",
              "      </button>\n",
              "      \n",
              "  <style>\n",
              "    .colab-df-container {\n",
              "      display:flex;\n",
              "      flex-wrap:wrap;\n",
              "      gap: 12px;\n",
              "    }\n",
              "\n",
              "    .colab-df-convert {\n",
              "      background-color: #E8F0FE;\n",
              "      border: none;\n",
              "      border-radius: 50%;\n",
              "      cursor: pointer;\n",
              "      display: none;\n",
              "      fill: #1967D2;\n",
              "      height: 32px;\n",
              "      padding: 0 0 0 0;\n",
              "      width: 32px;\n",
              "    }\n",
              "\n",
              "    .colab-df-convert:hover {\n",
              "      background-color: #E2EBFA;\n",
              "      box-shadow: 0px 1px 2px rgba(60, 64, 67, 0.3), 0px 1px 3px 1px rgba(60, 64, 67, 0.15);\n",
              "      fill: #174EA6;\n",
              "    }\n",
              "\n",
              "    [theme=dark] .colab-df-convert {\n",
              "      background-color: #3B4455;\n",
              "      fill: #D2E3FC;\n",
              "    }\n",
              "\n",
              "    [theme=dark] .colab-df-convert:hover {\n",
              "      background-color: #434B5C;\n",
              "      box-shadow: 0px 1px 3px 1px rgba(0, 0, 0, 0.15);\n",
              "      filter: drop-shadow(0px 1px 2px rgba(0, 0, 0, 0.3));\n",
              "      fill: #FFFFFF;\n",
              "    }\n",
              "  </style>\n",
              "\n",
              "      <script>\n",
              "        const buttonEl =\n",
              "          document.querySelector('#df-aeee559e-bc27-4c3a-8dcd-382e59d5b183 button.colab-df-convert');\n",
              "        buttonEl.style.display =\n",
              "          google.colab.kernel.accessAllowed ? 'block' : 'none';\n",
              "\n",
              "        async function convertToInteractive(key) {\n",
              "          const element = document.querySelector('#df-aeee559e-bc27-4c3a-8dcd-382e59d5b183');\n",
              "          const dataTable =\n",
              "            await google.colab.kernel.invokeFunction('convertToInteractive',\n",
              "                                                     [key], {});\n",
              "          if (!dataTable) return;\n",
              "\n",
              "          const docLinkHtml = 'Like what you see? Visit the ' +\n",
              "            '<a target=\"_blank\" href=https://colab.research.google.com/notebooks/data_table.ipynb>data table notebook</a>'\n",
              "            + ' to learn more about interactive tables.';\n",
              "          element.innerHTML = '';\n",
              "          dataTable['output_type'] = 'display_data';\n",
              "          await google.colab.output.renderOutput(dataTable, element);\n",
              "          const docLink = document.createElement('div');\n",
              "          docLink.innerHTML = docLinkHtml;\n",
              "          element.appendChild(docLink);\n",
              "        }\n",
              "      </script>\n",
              "    </div>\n",
              "  </div>\n",
              "  "
            ]
          },
          "metadata": {},
          "execution_count": 333
        }
      ]
    },
    {
      "cell_type": "code",
      "source": [
        "plt.subplots(figsize=(12,4))\n",
        "ax=sns.barplot(x='Model',y=\"Precision\",data=best_df)\n",
        "labels = (best_df[\"Precision\"])\n",
        "for i,j in enumerate(labels):\n",
        " ax.text(i,j+1,str(j))"
      ],
      "metadata": {
        "colab": {
          "base_uri": "https://localhost:8080/",
          "height": 279
        },
        "id": "S8KMqdf8lcBn",
        "outputId": "17bcfef5-5ef1-4097-b859-da0907379efa"
      },
      "execution_count": null,
      "outputs": [
        {
          "output_type": "display_data",
          "data": {
            "text/plain": [
              "<Figure size 864x288 with 1 Axes>"
            ],
            "image/png": "[encoded data removed]"
          },
          "metadata": {
            "needs_background": "light"
          }
        }
      ]
    },
    {
      "cell_type": "markdown",
      "source": [
        "*BASED ON RECALL*"
      ],
      "metadata": {
        "id": "5fdtj4bYbG-s"
      }
    },
    {
      "cell_type": "code",
      "source": [
        "best = pd.DataFrame({\n",
        "    'Model': [ 'KNN','Random Forest','Naive Bayes','Decision Tree','SVM','ANN'],\n",
        "    \"Recall\":[KNN_recall,RF_recall,NB_recall,DT_recall,SVM_recall,ANN_recall]\n",
        " })\n",
        "best_df = best.sort_values(by='Recall', ascending=False)\n",
        "\n",
        "best_df = best_df.reset_index(drop=True)\n",
        "\n",
        "best_df.head(6)"
      ],
      "metadata": {
        "colab": {
          "base_uri": "https://localhost:8080/",
          "height": 237
        },
        "id": "dCAQ6FiEl8mr",
        "outputId": "6677b99b-3d79-4f79-f12f-985c64c60446"
      },
      "execution_count": null,
      "outputs": [
        {
          "output_type": "execute_result",
          "data": {
            "text/plain": [
              "           Model  Recall\n",
              "0            SVM  99.250\n",
              "1            KNN  98.273\n",
              "2            ANN  97.606\n",
              "3  Random Forest  96.824\n",
              "4    Naive Bayes  85.942\n",
              "5  Decision Tree  85.281"
            ],
            "text/html": [
              "\n",
              "  <div id=\"df-47392d38-18ae-4f4b-9248-0f1f5dcc0496\">\n",
              "    <div class=\"colab-df-container\">\n",
              "      <div>\n",
              "<style scoped>\n",
              "    .dataframe tbody tr th:only-of-type {\n",
              "        vertical-align: middle;\n",
              "    }\n",
              "\n",
              "    .dataframe tbody tr th {\n",
              "        vertical-align: top;\n",
              "    }\n",
              "\n",
              "    .dataframe thead th {\n",
              "        text-align: right;\n",
              "    }\n",
              "</style>\n",
              "<table border=\"1\" class=\"dataframe\">\n",
              "  <thead>\n",
              "    <tr style=\"text-align: right;\">\n",
              "      <th></th>\n",
              "      <th>Model</th>\n",
              "      <th>Recall</th>\n",
              "    </tr>\n",
              "  </thead>\n",
              "  <tbody>\n",
              "    <tr>\n",
              "      <th>0</th>\n",
              "      <td>SVM</td>\n",
              "      <td>99.250</td>\n",
              "    </tr>\n",
              "    <tr>\n",
              "      <th>1</th>\n",
              "      <td>KNN</td>\n",
              "      <td>98.273</td>\n",
              "    </tr>\n",
              "    <tr>\n",
              "      <th>2</th>\n",
              "      <td>ANN</td>\n",
              "      <td>97.606</td>\n",
              "    </tr>\n",
              "    <tr>\n",
              "      <th>3</th>\n",
              "      <td>Random Forest</td>\n",
              "      <td>96.824</td>\n",
              "    </tr>\n",
              "    <tr>\n",
              "      <th>4</th>\n",
              "      <td>Naive Bayes</td>\n",
              "      <td>85.942</td>\n",
              "    </tr>\n",
              "    <tr>\n",
              "      <th>5</th>\n",
              "      <td>Decision Tree</td>\n",
              "      <td>85.281</td>\n",
              "    </tr>\n",
              "  </tbody>\n",
              "</table>\n",
              "</div>\n",
              "      <button class=\"colab-df-convert\" onclick=\"convertToInteractive('df-47392d38-18ae-4f4b-9248-0f1f5dcc0496')\"\n",
              "              title=\"Convert this dataframe to an interactive table.\"\n",
              "              style=\"display:none;\">\n",
              "        \n",
              "  <svg xmlns=\"http://www.w3.org/2000/svg\" height=\"24px\"viewBox=\"0 0 24 24\"\n",
              "       width=\"24px\">\n",
              "    <path d=\"M0 0h24v24H0V0z\" fill=\"none\"/>\n",
              "    <path d=\"M18.56 5.44l.94 2.06.94-2.06 2.06-.94-2.06-.94-.94-2.06-.94 2.06-2.06.94zm-11 1L8.5 8.5l.94-2.06 2.06-.94-2.06-.94L8.5 2.5l-.94 2.06-2.06.94zm10 10l.94 2.06.94-2.06 2.06-.94-2.06-.94-.94-2.06-.94 2.06-2.06.94z\"/><path d=\"M17.41 7.96l-1.37-1.37c-.4-.4-.92-.59-1.43-.59-.52 0-1.04.2-1.43.59L10.3 9.45l-7.72 7.72c-.78.78-.78 2.05 0 2.83L4 21.41c.39.39.9.59 1.41.59.51 0 1.02-.2 1.41-.59l7.78-7.78 2.81-2.81c.8-.78.8-2.07 0-2.86zM5.41 20L4 18.59l7.72-7.72 1.47 1.35L5.41 20z\"/>\n",
              "  </svg>\n",
              "      </button>\n",
              "      \n",
              "  <style>\n",
              "    .colab-df-container {\n",
              "      display:flex;\n",
              "      flex-wrap:wrap;\n",
              "      gap: 12px;\n",
              "    }\n",
              "\n",
              "    .colab-df-convert {\n",
              "      background-color: #E8F0FE;\n",
              "      border: none;\n",
              "      border-radius: 50%;\n",
              "      cursor: pointer;\n",
              "      display: none;\n",
              "      fill: #1967D2;\n",
              "      height: 32px;\n",
              "      padding: 0 0 0 0;\n",
              "      width: 32px;\n",
              "    }\n",
              "\n",
              "    .colab-df-convert:hover {\n",
              "      background-color: #E2EBFA;\n",
              "      box-shadow: 0px 1px 2px rgba(60, 64, 67, 0.3), 0px 1px 3px 1px rgba(60, 64, 67, 0.15);\n",
              "      fill: #174EA6;\n",
              "    }\n",
              "\n",
              "    [theme=dark] .colab-df-convert {\n",
              "      background-color: #3B4455;\n",
              "      fill: #D2E3FC;\n",
              "    }\n",
              "\n",
              "    [theme=dark] .colab-df-convert:hover {\n",
              "      background-color: #434B5C;\n",
              "      box-shadow: 0px 1px 3px 1px rgba(0, 0, 0, 0.15);\n",
              "      filter: drop-shadow(0px 1px 2px rgba(0, 0, 0, 0.3));\n",
              "      fill: #FFFFFF;\n",
              "    }\n",
              "  </style>\n",
              "\n",
              "      <script>\n",
              "        const buttonEl =\n",
              "          document.querySelector('#df-47392d38-18ae-4f4b-9248-0f1f5dcc0496 button.colab-df-convert');\n",
              "        buttonEl.style.display =\n",
              "          google.colab.kernel.accessAllowed ? 'block' : 'none';\n",
              "\n",
              "        async function convertToInteractive(key) {\n",
              "          const element = document.querySelector('#df-47392d38-18ae-4f4b-9248-0f1f5dcc0496');\n",
              "          const dataTable =\n",
              "            await google.colab.kernel.invokeFunction('convertToInteractive',\n",
              "                                                     [key], {});\n",
              "          if (!dataTable) return;\n",
              "\n",
              "          const docLinkHtml = 'Like what you see? Visit the ' +\n",
              "            '<a target=\"_blank\" href=https://colab.research.google.com/notebooks/data_table.ipynb>data table notebook</a>'\n",
              "            + ' to learn more about interactive tables.';\n",
              "          element.innerHTML = '';\n",
              "          dataTable['output_type'] = 'display_data';\n",
              "          await google.colab.output.renderOutput(dataTable, element);\n",
              "          const docLink = document.createElement('div');\n",
              "          docLink.innerHTML = docLinkHtml;\n",
              "          element.appendChild(docLink);\n",
              "        }\n",
              "      </script>\n",
              "    </div>\n",
              "  </div>\n",
              "  "
            ]
          },
          "metadata": {},
          "execution_count": 335
        }
      ]
    },
    {
      "cell_type": "code",
      "source": [
        "plt.subplots(figsize=(12,4))\n",
        "ax=sns.barplot(x='Model',y=\"Recall\",data=best_df)\n",
        "labels = (best_df[\"Recall\"])\n",
        "for i,j in enumerate(labels):\n",
        " ax.text(i,j+1,str(j))"
      ],
      "metadata": {
        "colab": {
          "base_uri": "https://localhost:8080/",
          "height": 279
        },
        "id": "bm-fQ4Lsl9SL",
        "outputId": "2eb0830c-56ed-419d-d983-c85619a378a1"
      },
      "execution_count": null,
      "outputs": [
        {
          "output_type": "display_data",
          "data": {
            "text/plain": [
              "<Figure size 864x288 with 1 Axes>"
            ],
            "image/png": "[encoded data removed]"
          },
          "metadata": {
            "needs_background": "light"
          }
        }
      ]
    },
    {
      "cell_type": "markdown",
      "source": [
        "*BASED ON F1_Score*"
      ],
      "metadata": {
        "id": "3mBzwHbJbM2G"
      }
    },
    {
      "cell_type": "code",
      "source": [
        "best = pd.DataFrame({\n",
        "    'Model': [ 'KNN','Random Forest','Naive Bayes','Decision Tree','SVM','ANN'],\n",
        "    \"F1_Score\":[KNN_f1,RF_f1,NB_f1,DT_f1,SVM_f1,ANN_f1]\n",
        " })\n",
        "best_df = best.sort_values(by='F1_Score', ascending=False)\n",
        "\n",
        "best_df = best_df.reset_index(drop=True)\n",
        "\n",
        "best_df.head(6)"
      ],
      "metadata": {
        "colab": {
          "base_uri": "https://localhost:8080/",
          "height": 237
        },
        "id": "RaWjKVtjmBDL",
        "outputId": "5b4915b7-8731-4dcc-b0f3-e4161991b08d"
      },
      "execution_count": null,
      "outputs": [
        {
          "output_type": "execute_result",
          "data": {
            "text/plain": [
              "           Model  F1_Score\n",
              "0            SVM    99.235\n",
              "1            KNN    98.280\n",
              "2            ANN    97.548\n",
              "3  Random Forest    96.701\n",
              "4    Naive Bayes    86.088\n",
              "5  Decision Tree    84.972"
            ],
            "text/html": [
              "\n",
              "  <div id=\"df-0c401378-b242-4507-a13f-73098110f8af\">\n",
              "    <div class=\"colab-df-container\">\n",
              "      <div>\n",
              "<style scoped>\n",
              "    .dataframe tbody tr th:only-of-type {\n",
              "        vertical-align: middle;\n",
              "    }\n",
              "\n",
              "    .dataframe tbody tr th {\n",
              "        vertical-align: top;\n",
              "    }\n",
              "\n",
              "    .dataframe thead th {\n",
              "        text-align: right;\n",
              "    }\n",
              "</style>\n",
              "<table border=\"1\" class=\"dataframe\">\n",
              "  <thead>\n",
              "    <tr style=\"text-align: right;\">\n",
              "      <th></th>\n",
              "      <th>Model</th>\n",
              "      <th>F1_Score</th>\n",
              "    </tr>\n",
              "  </thead>\n",
              "  <tbody>\n",
              "    <tr>\n",
              "      <th>0</th>\n",
              "      <td>SVM</td>\n",
              "      <td>99.235</td>\n",
              "    </tr>\n",
              "    <tr>\n",
              "      <th>1</th>\n",
              "      <td>KNN</td>\n",
              "      <td>98.280</td>\n",
              "    </tr>\n",
              "    <tr>\n",
              "      <th>2</th>\n",
              "      <td>ANN</td>\n",
              "      <td>97.548</td>\n",
              "    </tr>\n",
              "    <tr>\n",
              "      <th>3</th>\n",
              "      <td>Random Forest</td>\n",
              "      <td>96.701</td>\n",
              "    </tr>\n",
              "    <tr>\n",
              "      <th>4</th>\n",
              "      <td>Naive Bayes</td>\n",
              "      <td>86.088</td>\n",
              "    </tr>\n",
              "    <tr>\n",
              "      <th>5</th>\n",
              "      <td>Decision Tree</td>\n",
              "      <td>84.972</td>\n",
              "    </tr>\n",
              "  </tbody>\n",
              "</table>\n",
              "</div>\n",
              "      <button class=\"colab-df-convert\" onclick=\"convertToInteractive('df-0c401378-b242-4507-a13f-73098110f8af')\"\n",
              "              title=\"Convert this dataframe to an interactive table.\"\n",
              "              style=\"display:none;\">\n",
              "        \n",
              "  <svg xmlns=\"http://www.w3.org/2000/svg\" height=\"24px\"viewBox=\"0 0 24 24\"\n",
              "       width=\"24px\">\n",
              "    <path d=\"M0 0h24v24H0V0z\" fill=\"none\"/>\n",
              "    <path d=\"M18.56 5.44l.94 2.06.94-2.06 2.06-.94-2.06-.94-.94-2.06-.94 2.06-2.06.94zm-11 1L8.5 8.5l.94-2.06 2.06-.94-2.06-.94L8.5 2.5l-.94 2.06-2.06.94zm10 10l.94 2.06.94-2.06 2.06-.94-2.06-.94-.94-2.06-.94 2.06-2.06.94z\"/><path d=\"M17.41 7.96l-1.37-1.37c-.4-.4-.92-.59-1.43-.59-.52 0-1.04.2-1.43.59L10.3 9.45l-7.72 7.72c-.78.78-.78 2.05 0 2.83L4 21.41c.39.39.9.59 1.41.59.51 0 1.02-.2 1.41-.59l7.78-7.78 2.81-2.81c.8-.78.8-2.07 0-2.86zM5.41 20L4 18.59l7.72-7.72 1.47 1.35L5.41 20z\"/>\n",
              "  </svg>\n",
              "      </button>\n",
              "      \n",
              "  <style>\n",
              "    .colab-df-container {\n",
              "      display:flex;\n",
              "      flex-wrap:wrap;\n",
              "      gap: 12px;\n",
              "    }\n",
              "\n",
              "    .colab-df-convert {\n",
              "      background-color: #E8F0FE;\n",
              "      border: none;\n",
              "      border-radius: 50%;\n",
              "      cursor: pointer;\n",
              "      display: none;\n",
              "      fill: #1967D2;\n",
              "      height: 32px;\n",
              "      padding: 0 0 0 0;\n",
              "      width: 32px;\n",
              "    }\n",
              "\n",
              "    .colab-df-convert:hover {\n",
              "      background-color: #E2EBFA;\n",
              "      box-shadow: 0px 1px 2px rgba(60, 64, 67, 0.3), 0px 1px 3px 1px rgba(60, 64, 67, 0.15);\n",
              "      fill: #174EA6;\n",
              "    }\n",
              "\n",
              "    [theme=dark] .colab-df-convert {\n",
              "      background-color: #3B4455;\n",
              "      fill: #D2E3FC;\n",
              "    }\n",
              "\n",
              "    [theme=dark] .colab-df-convert:hover {\n",
              "      background-color: #434B5C;\n",
              "      box-shadow: 0px 1px 3px 1px rgba(0, 0, 0, 0.15);\n",
              "      filter: drop-shadow(0px 1px 2px rgba(0, 0, 0, 0.3));\n",
              "      fill: #FFFFFF;\n",
              "    }\n",
              "  </style>\n",
              "\n",
              "      <script>\n",
              "        const buttonEl =\n",
              "          document.querySelector('#df-0c401378-b242-4507-a13f-73098110f8af button.colab-df-convert');\n",
              "        buttonEl.style.display =\n",
              "          google.colab.kernel.accessAllowed ? 'block' : 'none';\n",
              "\n",
              "        async function convertToInteractive(key) {\n",
              "          const element = document.querySelector('#df-0c401378-b242-4507-a13f-73098110f8af');\n",
              "          const dataTable =\n",
              "            await google.colab.kernel.invokeFunction('convertToInteractive',\n",
              "                                                     [key], {});\n",
              "          if (!dataTable) return;\n",
              "\n",
              "          const docLinkHtml = 'Like what you see? Visit the ' +\n",
              "            '<a target=\"_blank\" href=https://colab.research.google.com/notebooks/data_table.ipynb>data table notebook</a>'\n",
              "            + ' to learn more about interactive tables.';\n",
              "          element.innerHTML = '';\n",
              "          dataTable['output_type'] = 'display_data';\n",
              "          await google.colab.output.renderOutput(dataTable, element);\n",
              "          const docLink = document.createElement('div');\n",
              "          docLink.innerHTML = docLinkHtml;\n",
              "          element.appendChild(docLink);\n",
              "        }\n",
              "      </script>\n",
              "    </div>\n",
              "  </div>\n",
              "  "
            ]
          },
          "metadata": {},
          "execution_count": 338
        }
      ]
    },
    {
      "cell_type": "code",
      "source": [
        "plt.subplots(figsize=(12,4))\n",
        "ax=sns.barplot(x='Model',y=\"F1_Score\",data=best_df)\n",
        "labels = (best_df[\"F1_Score\"])\n",
        "for i,j in enumerate(labels):\n",
        " ax.text(i,j+1,str(j))"
      ],
      "metadata": {
        "colab": {
          "base_uri": "https://localhost:8080/",
          "height": 279
        },
        "id": "ZIYNYpSZmB6c",
        "outputId": "f0f7d2e0-4441-4e49-c408-448ddba08277"
      },
      "execution_count": null,
      "outputs": [
        {
          "output_type": "display_data",
          "data": {
            "text/plain": [
              "<Figure size 864x288 with 1 Axes>"
            ],
            "image/png": "[encoded data removed]"
          },
          "metadata": {
            "needs_background": "light"
          }
        }
      ]
    }
  ],
  "metadata": {
    "colab": {
      "provenance": []
    },
    "kernelspec": {
      "display_name": "Python 3",
      "name": "python3"
    },
    "language_info": {
      "name": "python"
    }
  },
  "nbformat": 4,
  "nbformat_minor": 0
}